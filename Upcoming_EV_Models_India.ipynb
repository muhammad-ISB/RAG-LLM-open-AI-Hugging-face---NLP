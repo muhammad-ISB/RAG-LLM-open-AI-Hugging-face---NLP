{
  "cells": [
    {
      "cell_type": "markdown",
      "id": "81a4778c",
      "metadata": {
        "id": "81a4778c"
      },
      "source": [
        "# Information Extraction\n",
        "\n",
        "**Author**: Manaranjan Pradhan <br/>\n",
        "www.manaranjanp.com"
      ]
    },
    {
      "cell_type": "code",
      "execution_count": null,
      "id": "512c9ab9",
      "metadata": {
        "colab": {
          "base_uri": "https://localhost:8080/"
        },
        "id": "512c9ab9",
        "outputId": "76d3f8b7-0d26-4912-fe44-cafbb9a22e46"
      },
      "outputs": [
        {
          "output_type": "stream",
          "name": "stdout",
          "text": [
            "\u001b[2K     \u001b[90m━━━━━━━━━━━━━━━━━━━━━━━━━━━━━━━━━━━━━━━━\u001b[0m \u001b[32m2.0/2.0 MB\u001b[0m \u001b[31m19.4 MB/s\u001b[0m eta \u001b[36m0:00:00\u001b[0m\n",
            "\u001b[2K     \u001b[90m━━━━━━━━━━━━━━━━━━━━━━━━━━━━━━━━━━━━━━━━\u001b[0m \u001b[32m220.3/220.3 kB\u001b[0m \u001b[31m19.8 MB/s\u001b[0m eta \u001b[36m0:00:00\u001b[0m\n",
            "\u001b[2K     \u001b[90m━━━━━━━━━━━━━━━━━━━━━━━━━━━━━━━━━━━━━━━━\u001b[0m \u001b[32m46.1/46.1 kB\u001b[0m \u001b[31m4.9 MB/s\u001b[0m eta \u001b[36m0:00:00\u001b[0m\n",
            "\u001b[2K     \u001b[90m━━━━━━━━━━━━━━━━━━━━━━━━━━━━━━━━━━━━━━━━\u001b[0m \u001b[32m75.0/75.0 kB\u001b[0m \u001b[31m7.4 MB/s\u001b[0m eta \u001b[36m0:00:00\u001b[0m\n",
            "\u001b[2K     \u001b[90m━━━━━━━━━━━━━━━━━━━━━━━━━━━━━━━━━━━━━━━━\u001b[0m \u001b[32m49.4/49.4 kB\u001b[0m \u001b[31m6.0 MB/s\u001b[0m eta \u001b[36m0:00:00\u001b[0m\n",
            "\u001b[2K     \u001b[90m━━━━━━━━━━━━━━━━━━━━━━━━━━━━━━━━━━━━━━━━\u001b[0m \u001b[32m76.9/76.9 kB\u001b[0m \u001b[31m10.2 MB/s\u001b[0m eta \u001b[36m0:00:00\u001b[0m\n",
            "\u001b[2K     \u001b[90m━━━━━━━━━━━━━━━━━━━━━━━━━━━━━━━━━━━━━━━━\u001b[0m \u001b[32m58.3/58.3 kB\u001b[0m \u001b[31m7.9 MB/s\u001b[0m eta \u001b[36m0:00:00\u001b[0m\n",
            "\u001b[?25h\u001b[31mERROR: pip's dependency resolver does not currently take into account all the packages that are installed. This behaviour is the source of the following dependency conflicts.\n",
            "llmx 0.0.15a0 requires cohere, which is not installed.\n",
            "llmx 0.0.15a0 requires tiktoken, which is not installed.\u001b[0m\u001b[31m\n",
            "\u001b[0m"
          ]
        }
      ],
      "source": [
        "!pip install -q langchain openai"
      ]
    },
    {
      "cell_type": "markdown",
      "id": "df029c1d",
      "metadata": {
        "id": "df029c1d"
      },
      "source": [
        "[Source: Washington Post](https://www.washingtonpost.com/climate-environment/2023/04/11/electric-vehicle-buying-guide/)"
      ]
    },
    {
      "cell_type": "markdown",
      "id": "6f64fc7a",
      "metadata": {
        "id": "6f64fc7a"
      },
      "source": [
        "## Accesing the Page Content"
      ]
    },
    {
      "cell_type": "code",
      "execution_count": null,
      "id": "31d92757",
      "metadata": {
        "id": "31d92757"
      },
      "outputs": [],
      "source": [
        "import requests"
      ]
    },
    {
      "cell_type": "code",
      "execution_count": null,
      "id": "979e13cb",
      "metadata": {
        "id": "979e13cb"
      },
      "outputs": [],
      "source": [
        "url = \"https://www.zigwheels.com/newcars/electric-cars\""
      ]
    },
    {
      "cell_type": "code",
      "execution_count": null,
      "id": "002cc2b8",
      "metadata": {
        "id": "002cc2b8"
      },
      "outputs": [],
      "source": [
        "from bs4 import BeautifulSoup\n",
        "\n",
        "html = requests.get(url).text\n",
        "soup = BeautifulSoup(html)\n",
        "text = soup.get_text()"
      ]
    },
    {
      "cell_type": "code",
      "execution_count": null,
      "id": "d561adf3",
      "metadata": {
        "colab": {
          "base_uri": "https://localhost:8080/"
        },
        "id": "d561adf3",
        "outputId": "ae1b8be5-e612-4469-d9cb-ee2f350d18ac"
      },
      "outputs": [
        {
          "output_type": "stream",
          "name": "stdout",
          "text": [
            "\n",
            "\n",
            "\n",
            "\n",
            "\n",
            "\n",
            "\n",
            "\n",
            "Electric Cars in India, EV Car Prices, Mileage, Battery Cars @ ZigWheels\n",
            "\n",
            "\n",
            "\n",
            "\n",
            "\n",
            "\n",
            "\n",
            "\n",
            "\n",
            "\n",
            "\n",
            "\n",
            "\n",
            "\n",
            "\n",
            "\n",
            "\n",
            "\n",
            "\n",
            "\n",
            "\n",
            "\n",
            "\n",
            "\n",
            "\n",
            "rvmp_make,rvmp_forum_ask_car_owner,rvmp_question_box,rvmp_running_cost_form,rvmp_story_script,rvmp_running_cost_form\n",
            " \n",
            "\n",
            "\n",
            "\n",
            "\n",
            "\n",
            "\n",
            "\n",
            "\n",
            "\n",
            "\n",
            "\n",
            "\n",
            "\n",
            "\n",
            "\n",
            "\n",
            "\n",
            "0\n",
            "\n",
            "\n",
            "\n",
            "\n",
            "\n",
            "\n",
            "\n",
            "\n",
            "\n",
            "\n",
            "\n",
            "\n",
            "\n",
            "\n",
            "\n",
            "\n",
            "\n",
            "\n",
            "\n",
            "\n",
            "\n",
            "\n",
            "\n",
            "\n",
            "\n",
            "\n",
            "\n",
            "\n",
            "\n",
            "\n",
            "\n",
            "\n",
            "\n",
            "\n",
            "\n",
            "\n",
            "\n",
            "\n",
            "\n",
            "\n",
            "\n",
            "\n",
            "\n",
            "\n",
            "\n",
            "News & Reviews\n",
            "\n",
            "Auto News\n",
            "Expert Reviews\n",
            "User Reviews\n",
            "Ask a Question\n",
            "Auto Visual Stories\n",
            "Photo Gallery\n",
            "Video Gallery\n",
            "\n",
            "\n",
            "\n",
            "New Cars\n",
            "\n",
            "Find New Cars\n",
            "\n",
            "\n",
            "Popular Car Brands\n",
            "\n",
            " Renault Cars\n",
            " Skoda Cars\n",
            " Jeep Cars\n",
            " Citroen Cars\n",
            " Hyundai Cars\n",
            " Tata Cars\n",
            " Maruti Suzuki Cars\n",
            " Kia Cars\n",
            " Mahindra Cars\n",
            " Toyota Cars\n",
            " Honda Cars\n",
            " MG Cars\n",
            " All Car Brands\n",
            "\n",
            "\n",
            "\n",
            "Popular Car Models\n",
            "\n",
            " Maruti Grand Vitara\n",
            " Renault Kiger\n",
            " Skoda Slavia\n",
            " Tata Punch\n",
            " Hyundai Exter\n",
            " Maruti FRONX\n",
            " Maruti Swift\n",
            " Jeep Wrangler\n",
            " Jeep Compass\n",
            " Hyundai Creta\n",
            " Kia Sonet\n",
            " Mahindra Thar\n",
            " Volkswagen Tiguan\n",
            " Mahindra Scorpio N\n",
            " Toyota Innova Hycross\n",
            " Best Cars in India\n",
            "\n",
            "\n",
            "\n",
            "Cars By Budget\n",
            "\n",
            " Cars Under 5 Lakhs\n",
            " Cars Under 8 Lakhs\n",
            " Cars Under 10 Lakhs\n",
            " Cars Under 15\n"
          ]
        }
      ],
      "source": [
        "print(text[0:1000])"
      ]
    },
    {
      "cell_type": "code",
      "execution_count": null,
      "id": "7bde6a4b",
      "metadata": {
        "id": "7bde6a4b"
      },
      "outputs": [],
      "source": [
        "beginning = 'Popular Electric Cars in 2023'\n",
        "ending = \"Key Highlights of Electric Cars\"\n",
        "final_text = text[text.index(beginning):text.index(ending)]\n",
        "final_text = final_text.replace(\"\\n\", \"\\t\")"
      ]
    },
    {
      "cell_type": "code",
      "execution_count": null,
      "id": "9786b556",
      "metadata": {
        "colab": {
          "base_uri": "https://localhost:8080/"
        },
        "id": "9786b556",
        "outputId": "749bd7c0-a5d9-4d49-a72a-dbd57c368306"
      },
      "outputs": [
        {
          "output_type": "stream",
          "name": "stdout",
          "text": [
            "Popular Electric Cars in 2023\t\t\t\t\t\t\t4.6\t|  136 reviews\t\t\t\t\tTata Tiago EV\t\t\tRs. 8.69 Lakh\t\tCheck On-Road Price »\t19.2 KWh | 45 kW | 315 km/charge\tView November Offers\t\t\t\t\t\t\t\t\t3.4\t|  27 reviews\t\t\t\t\tTata Nexon EV\t\t\tRs. 14.74 Lakh\t\tCheck On-Road Price »\t30 kWh | 95 kW | 465 km/charge\tView November Offers\t\t\t\t\t\t\t\t\t4\t|  46 reviews\t\t\t\t\tKia EV6\t\t\tRs. 60.95 Lakh\t\tCheck On-Road Price »\t77.4 kWh | 708 km/charge | 0 km/h\tView November Offers\t\t\t\t\t\t\t\t\t4.5\t|  82 reviews\t\t\t\t\tMahindra XUV400 EV\t\t\tRs. 15.98 Lakh\t\tCheck On-Road Price »\t34.5 kWh | 100 kW | 456 km/charge\tView November Offers\t\t\t\t\t\t\t\t\t3.5\t|  67 reviews\t\t\t\t\tMG Comet EV\t\t\tRs. 7.98 Lakh\t\tCheck On-Road Price »\t17.3 kWh | 40.14bhp | 230 km/charge\tView November Offers\t\t\t\t\t\t\t\t\t5\t|  17 reviews\t\t\t\t\tBMW i7\t\t\tRs. 2.03 Crore\t\tCheck On-Road Price »\t101.7kW | 400 kW | 625 km/charge\tView November Offers\t\t\t\t\t\t\t\t\t4.8\t|  44 reviews\t\t\t\t\tTata Tigor EV\t\t\tRs. 12.49 Lakh\t\tCheck On-Road Price »\t26 kWh | 315 km/charge | 0 km/h\tView November Offers\t\t\t\t\t\t\t\t\t4.2\t|  21 reviews\t\t\t\t\tBMW iX\t\t\tRs. 1.21 Crore\t\tCheck On-Road Price »\t71 kW | 240 kW | 425 km/charge\tView November Offers\t\t\t\t\t\t\t\t\t4.2\t|  39 reviews\t\t\t\t\tMG ZS EV\t\t\tRs. 22.88 Lakh\t\tCheck On-Road Price »\t50.3 kWh | 129 kW | 461 km/charge\tView November Offers\t\t\t\t\t\t\t\t\t4.3\t|  40 reviews\t\t\t\t\tCitroen eC3\t\t\tRs. 11.61 Lakh\t\tCheck On-Road Price »\t29.2 kWh | 42 kW | 320 km/charge\tView November Offers\t\t\t\t\t\t\t\t\t4\t|  46 reviews\t\t\t\t\tHyundai Kona Electric\t\t\tRs. 23.84 Lakh\t\tCheck On-Road Price »\t39.2 kWh | 100 kW | 452 km/charge\tView November Offers\t\t\t\t\t\t\t\t\t\t\tLotus Eletre\t\t\tRs. 2.55 Crore\t\tCheck On-Road Price »\t258 km/h | Electric\tView November Offers\t\t\t\t\t\t\t\t\t4.7\t|  read reviews\t\t\t\t\tMercedes-Benz EQS\t\t\tRs. 1.59 Crore\t\tCheck On-Road Price »\t107.8 kwh | 857 km/charge | 210 km/h\tContact Dealer\t\t\t\t\t\t\t\t\t4.1\t|  29 reviews\t\t\t\t\tBMW i4\t\t\tRs. 72.50 Lakh\t\tCheck On-Road Price »\t70.2kWh | 210 kW | 590 km/charge\tView November Offers\t\t\t\t\t\t\t\t\t4.8\t|  24 reviews\t\t\t\t\tAudi e-tron GT\t\t\tRs. 1.70 Crore\t\tCheck On-Road Price »\t93 kWh | 390 kW | 388 km/charge\tView November Offers\t\t\t\t\t\t\t\t\t4.1\t|  44 reviews\t\t\t\t\tBYD Atto 3\t\t\tRs. 33.99 Lakh\t\tCheck On-Road Price »\t60.48 kWh | 150 kW | 521 km/charge\tView November Offers\t\t\t\t\t\t\t\t\t4.6\t|  47 reviews\t\t\t\t\tBYD E6\t\t\tRs. 29.15 Lakh\t\tCheck On-Road Price »\t71.7 kWh | 70 kW | 415 km/charge\tView November Offers\t\t\t\t\t\t\t\t\t4\t|  24 reviews\t\t\t\t\tAudi e-tron\t\t\tRs. 1.02 Crore\t\tCheck On-Road Price »\t95 kwh | 300 kW | 484 km/charge\tView November Offers\t\t\t\t\t\t\t\t\t4.8\t|  read reviews\t\t\t\t\tPorsche Taycan\t\t\tRs. 1.60 Crore\t\tCheck On-Road Price »\t93.4 | 560 kW | 395 km/charge\tView November Offers\t\t\t\t\t\t\t\t\t5\t|  read reviews\t\t\t\t\tAudi RS e-tron GT\t\t\tRs. 1.93 Crore\t\tCheck On-Road Price »\t93 kWh | 475 kW | 401 km/charge\tView November Offers\t\t\t\t\t\t\t\t\t4.2\t|  18 reviews\t\t\t\t\tJaguar I-Pace\t\t\tRs. 1.19 Crore\t\tCheck On-Road Price »\t90 kW | 294 kW | 470 km/charge\tView November Offers\t\t\t\t\t\t\t\t\t1\t|  11 reviews\t\t\t\t\tPMV EaS E\t\t\tRs. 4.79 Lakh\t\tCheck On-Road Price »\t10kWh | 160 km/charge | 70 km/h\tView November Offers\t\t\t\t\t\t\t\t\t4.8\t|  21 reviews\t\t\t\t\tMercedes-Benz EQB\t\t\tRs. 77.50 Lakh\t\tCheck On-Road Price »\t66.5Kwh | 423 km/charge | 160 km/h\tContact Dealer\t\t\t\t\t\t\t\t\t4\t|  27 reviews\t\t\t\t\tVolvo XC40 Recharge\t\t\tRs. 56.90 Lakh\t\tCheck On-Road Price »\t78 kW | 402.41 bhp | 418 km/charge\tView November Offers\t\t\t\t\t\t\t\t\t4.7\t|  19 reviews\t\t\t\t\tStrom Motors R3\t\t\tRs. 4.50 Lakh\t\tCheck On-Road Price »\t15 kW | 200 km/charge | 80 km/h\tView November Offers\t\t\t\t\t\t\t\t\t2.6\t|  28 reviews\t\t\t\t\tMini Cooper SE\t\t\tRs. 53.50 Lakh\t\tCheck On-Road Price »\t32.6 KwH | 135 kW | 270 km/charge\tView November Offers\t\t\t\t\t\t\t\t\t4.6\t|  read reviews\t\t\t\t\tHyundai IONIQ 5\t\t\tRs. 45.95 Lakh\t\tCheck On-Road Price »\t72.6 kWh | 160 kW | 631 km/charge\tView November Offers\t\t\t\t\t\t\t\t\t5\t|  read reviews\t\t\t\t\tBMW iX1\t\t\tRs. 66.90 Lakh\t\tCheck On-Road Price »\t66.4 kwh | 230 kW | 417 km/charge\tView November Offers\t\t\t\t\t\t\t\t\t4.7\t|  read reviews\t\t\t\t\tVolvo C40 Recharge\t\t\tRs. 62.95 Lakh\t\tCheck On-Road Price »\t78kWh | 402.30 | 530 km/charge\tView November Offers\t\t\t\t\t\t\t\t\t\t\tMercedes-Benz EQE SUV\t\t\tRs. 1.39 Crore\t\tCheck On-Road Price »\t90.56 kWh | 402.3 | 550 km/charge\tView November Offers\t\t\t\t\t\t\t\t\t\t\tAudi Q8 e-tron\t\t\tRs. 1.13 Crore\t\tCheck On-Road Price »\t114kWh | 335.25 | 582 km/charge\tView November Offers\t\t\t\t\t\t\t\t\t4\t|  read reviews\t\t\t\t\tPravaig DEFY\t\t\tRs. 39.50 Lakh\t\tCheck On-Road Price »\t90.9 | 300 | 500 km/charge\tView November Offers\t\t\t\t\t\t\t\t\t\t\tMercedes-Benz AMG EQS\t\t\tRs. 2.45 Crore\t\tCheck On-Road Price »\t107.8kwh | 580 km/charge | 250 km/h\tView November Offers\t\t\t\t\t\t\t\t\t\t\tAudi Q8 Sportback e-tron\t\t\tRs. 1.18 Crore\t\tCheck On-Road Price »\t95kWh | 335.25 | 600 km/charge\tView November Offers\t\t\t\t\t\tView More Cars \t\t\t\t\n"
          ]
        }
      ],
      "source": [
        "print(final_text)"
      ]
    },
    {
      "cell_type": "code",
      "execution_count": null,
      "id": "01746412",
      "metadata": {
        "colab": {
          "base_uri": "https://localhost:8080/"
        },
        "id": "01746412",
        "outputId": "0654d12b-be13-4a1c-8615-d1856e155889"
      },
      "outputs": [
        {
          "output_type": "execute_result",
          "data": {
            "text/plain": [
              "4621"
            ]
          },
          "metadata": {},
          "execution_count": 8
        }
      ],
      "source": [
        "len(final_text)"
      ]
    },
    {
      "cell_type": "markdown",
      "id": "c1467016",
      "metadata": {
        "id": "c1467016"
      },
      "source": [
        "### Storing the page content in file"
      ]
    },
    {
      "cell_type": "code",
      "execution_count": null,
      "id": "2bf83057",
      "metadata": {
        "id": "2bf83057"
      },
      "outputs": [],
      "source": [
        "with open(\"ev_article.txt\", \"w\") as f:\n",
        "    f.write(final_text)"
      ]
    },
    {
      "cell_type": "markdown",
      "id": "004f24a8",
      "metadata": {
        "id": "004f24a8"
      },
      "source": [
        "### Libararies or components used.\n",
        "\n",
        "- OpenAI (https://platform.openai.com/)\n",
        "- LangChain (https://langchain.com/)\n"
      ]
    },
    {
      "cell_type": "markdown",
      "id": "63e0ef16",
      "metadata": {
        "id": "63e0ef16"
      },
      "source": [
        "## Configuring LLM for Query"
      ]
    },
    {
      "cell_type": "code",
      "execution_count": null,
      "id": "be5199ac",
      "metadata": {
        "id": "be5199ac"
      },
      "outputs": [],
      "source": [
        "import os\n",
        "import openai\n",
        "from getpass import getpass\n",
        "from pprint import pprint"
      ]
    },
    {
      "cell_type": "code",
      "execution_count": null,
      "id": "2c45df33",
      "metadata": {
        "colab": {
          "base_uri": "https://localhost:8080/"
        },
        "id": "2c45df33",
        "outputId": "efd4729c-7a98-4434-afb2-7075055d3903"
      },
      "outputs": [
        {
          "name": "stdout",
          "output_type": "stream",
          "text": [
            "OpenAI Key:··········\n"
          ]
        }
      ],
      "source": [
        "os.environ['OPENAI_API_KEY'] = getpass(\"OpenAI Key:\")"
      ]
    },
    {
      "cell_type": "code",
      "execution_count": null,
      "id": "d4e0c3f2",
      "metadata": {
        "id": "d4e0c3f2"
      },
      "outputs": [],
      "source": [
        "openai.api_key  = os.getenv('OPENAI_API_KEY')"
      ]
    },
    {
      "cell_type": "markdown",
      "id": "179bd20d",
      "metadata": {
        "id": "179bd20d"
      },
      "source": [
        "### Initializing the OpenAI Chat Model"
      ]
    },
    {
      "cell_type": "code",
      "execution_count": null,
      "id": "9c13f303",
      "metadata": {
        "id": "9c13f303"
      },
      "outputs": [],
      "source": [
        "from langchain.chat_models import ChatOpenAI\n",
        "from langchain.chains import create_extraction_chain, create_extraction_chain_pydantic\n",
        "from langchain.prompts import ChatPromptTemplate"
      ]
    },
    {
      "cell_type": "code",
      "execution_count": null,
      "id": "657ceb93",
      "metadata": {
        "id": "657ceb93"
      },
      "outputs": [],
      "source": [
        "from langchain.chat_models import ChatOpenAI\n",
        "from langchain.chains.conversation.memory import ConversationBufferWindowMemory\n",
        "from langchain.chains import RetrievalQA\n",
        "\n",
        "# chat completion llm\n",
        "llm = ChatOpenAI(\n",
        "    model_name='gpt-3.5-turbo-0613',\n",
        "    temperature=0.0\n",
        ")"
      ]
    },
    {
      "cell_type": "markdown",
      "id": "766b2873",
      "metadata": {
        "id": "766b2873"
      },
      "source": [
        "### Configuring the Retrieval QA Chain\n",
        "\n",
        "https://json-schema.org/understanding-json-schema/"
      ]
    },
    {
      "cell_type": "code",
      "execution_count": null,
      "id": "72142d48",
      "metadata": {
        "id": "72142d48"
      },
      "outputs": [],
      "source": [
        "schema = {\n",
        "    \"properties\": {\n",
        "        \"model_name\": {\"type\": \"string\"},\n",
        "        \"price\": {\"type\": \"string\"},\n",
        "        \"range_kms\": {\"type\": \"integer\"},\n",
        "        \"battery_capacity\": {\"type\": \"integer\"},\n",
        "    },\n",
        "    \"required\": [\"person_name\", \"price_lakhs\", \"range_kms\"],\n",
        "}"
      ]
    },
    {
      "cell_type": "markdown",
      "id": "2f815004",
      "metadata": {
        "id": "2f815004"
      },
      "source": [
        "### Configurating Conversational Memory"
      ]
    },
    {
      "cell_type": "code",
      "execution_count": null,
      "id": "908e4183",
      "metadata": {
        "id": "908e4183"
      },
      "outputs": [],
      "source": [
        "chain = create_extraction_chain(schema, llm)"
      ]
    },
    {
      "cell_type": "code",
      "execution_count": null,
      "id": "0b174c2d",
      "metadata": {
        "colab": {
          "base_uri": "https://localhost:8080/"
        },
        "id": "0b174c2d",
        "outputId": "5a314b04-25bd-4f0a-a6a1-2776eee8fe4e"
      },
      "outputs": [
        {
          "output_type": "stream",
          "name": "stdout",
          "text": [
            "prompt=PromptTemplate(input_variables=['input'], template=\"Extract and save the relevant entities mentioned in the following passage together with their properties.\\n\\nOnly extract the properties mentioned in the 'information_extraction' function.\\n\\nIf a property is not present and is not required in the function parameters, do not include it in the output.\\n\\nPassage:\\n{input}\\n\")\n"
          ]
        }
      ],
      "source": [
        "print(chain.prompt.messages[0])"
      ]
    },
    {
      "cell_type": "code",
      "execution_count": null,
      "id": "2922467b",
      "metadata": {
        "colab": {
          "base_uri": "https://localhost:8080/"
        },
        "id": "2922467b",
        "outputId": "52f5ea4a-c67a-4955-e791-8eb3b3ff6969"
      },
      "outputs": [
        {
          "output_type": "stream",
          "name": "stdout",
          "text": [
            "Extract and save the relevant entities mentioned in the following passage together with their properties.\n",
            "\n",
            "Only extract the properties mentioned in the 'information_extraction' function.\n",
            "\n",
            "If a property is not present and is not required in the function parameters, do not include it in the output.\n",
            "\n",
            "Passage:\n",
            "{input}\n",
            "\n"
          ]
        }
      ],
      "source": [
        "print(chain.prompt.messages[0].prompt.template)"
      ]
    },
    {
      "cell_type": "code",
      "execution_count": null,
      "id": "c184a1b2",
      "metadata": {
        "colab": {
          "base_uri": "https://localhost:8080/"
        },
        "id": "c184a1b2",
        "outputId": "518700ba-a676-470f-d427-d0910996ba1e"
      },
      "outputs": [
        {
          "output_type": "execute_result",
          "data": {
            "text/plain": [
              "{'functions': [{'name': 'information_extraction',\n",
              "   'description': 'Extracts the relevant information from the passage.',\n",
              "   'parameters': {'type': 'object',\n",
              "    'properties': {'info': {'type': 'array',\n",
              "      'items': {'type': 'object',\n",
              "       'properties': {'model_name': {'title': 'model_name', 'type': 'string'},\n",
              "        'price': {'title': 'price', 'type': 'string'},\n",
              "        'range_kms': {'title': 'range_kms', 'type': 'integer'},\n",
              "        'battery_capacity': {'title': 'battery_capacity', 'type': 'integer'}},\n",
              "       'required': ['person_name', 'price_lakhs', 'range_kms']}}},\n",
              "    'required': ['info']}}],\n",
              " 'function_call': {'name': 'information_extraction'}}"
            ]
          },
          "metadata": {},
          "execution_count": 19
        }
      ],
      "source": [
        "chain.llm_kwargs"
      ]
    },
    {
      "cell_type": "markdown",
      "id": "e7bf1efa",
      "metadata": {
        "id": "e7bf1efa"
      },
      "source": [
        "## Asking Questions"
      ]
    },
    {
      "cell_type": "code",
      "execution_count": null,
      "id": "20ad28f4",
      "metadata": {
        "colab": {
          "base_uri": "https://localhost:8080/"
        },
        "id": "20ad28f4",
        "outputId": "70e52ea2-f113-4c5a-f8ee-306be01c95ed"
      },
      "outputs": [
        {
          "output_type": "execute_result",
          "data": {
            "text/plain": [
              "[{'model_name': 'Tata Tiago EV',\n",
              "  'price': 'Rs. 8.69 Lakh',\n",
              "  'range_kms': 315,\n",
              "  'battery_capacity': 19.2},\n",
              " {'model_name': 'Tata Nexon EV',\n",
              "  'price': 'Rs. 14.74 Lakh',\n",
              "  'range_kms': 465,\n",
              "  'battery_capacity': 30},\n",
              " {'model_name': 'Kia EV6',\n",
              "  'price': 'Rs. 60.95 Lakh',\n",
              "  'battery_capacity': 77.4},\n",
              " {'model_name': 'Mahindra XUV400 EV',\n",
              "  'price': 'Rs. 15.98 Lakh',\n",
              "  'range_kms': 456,\n",
              "  'battery_capacity': 34.5},\n",
              " {'model_name': 'MG Comet EV',\n",
              "  'price': 'Rs. 7.98 Lakh',\n",
              "  'range_kms': 230,\n",
              "  'battery_capacity': 17.3},\n",
              " {'model_name': 'BMW i7',\n",
              "  'price': 'Rs. 2.03 Crore',\n",
              "  'range_kms': 625,\n",
              "  'battery_capacity': 101.7},\n",
              " {'model_name': 'Tata Tigor EV',\n",
              "  'price': 'Rs. 12.49 Lakh',\n",
              "  'range_kms': 315,\n",
              "  'battery_capacity': 26},\n",
              " {'model_name': 'BMW iX',\n",
              "  'price': 'Rs. 1.21 Crore',\n",
              "  'range_kms': 425,\n",
              "  'battery_capacity': 71},\n",
              " {'model_name': 'MG ZS EV',\n",
              "  'price': 'Rs. 22.88 Lakh',\n",
              "  'range_kms': 461,\n",
              "  'battery_capacity': 50.3},\n",
              " {'model_name': 'Citroen eC3',\n",
              "  'price': 'Rs. 11.61 Lakh',\n",
              "  'range_kms': 320,\n",
              "  'battery_capacity': 29.2},\n",
              " {'model_name': 'Hyundai Kona Electric',\n",
              "  'price': 'Rs. 23.84 Lakh',\n",
              "  'range_kms': 452,\n",
              "  'battery_capacity': 39.2},\n",
              " {'model_name': 'Lotus Eletre', 'price': 'Rs. 2.55 Crore'},\n",
              " {'model_name': 'Mercedes-Benz EQS',\n",
              "  'price': 'Rs. 1.59 Crore',\n",
              "  'range_kms': 857,\n",
              "  'battery_capacity': 107.8},\n",
              " {'model_name': 'BMW i4',\n",
              "  'price': 'Rs. 72.50 Lakh',\n",
              "  'range_kms': 590,\n",
              "  'battery_capacity': 70.2},\n",
              " {'model_name': 'Audi e-tron GT',\n",
              "  'price': 'Rs. 1.70 Crore',\n",
              "  'range_kms': 388,\n",
              "  'battery_capacity': 93},\n",
              " {'model_name': 'BYD Atto 3',\n",
              "  'price': 'Rs. 33.99 Lakh',\n",
              "  'range_kms': 521,\n",
              "  'battery_capacity': 60.48},\n",
              " {'model_name': 'BYD E6',\n",
              "  'price': 'Rs. 29.15 Lakh',\n",
              "  'range_kms': 415,\n",
              "  'battery_capacity': 71.7},\n",
              " {'model_name': 'Audi e-tron',\n",
              "  'price': 'Rs. 1.02 Crore',\n",
              "  'range_kms': 484,\n",
              "  'battery_capacity': 95},\n",
              " {'model_name': 'Porsche Taycan',\n",
              "  'price': 'Rs. 1.60 Crore',\n",
              "  'range_kms': 395,\n",
              "  'battery_capacity': 93.4},\n",
              " {'model_name': 'Audi RS e-tron GT',\n",
              "  'price': 'Rs. 1.93 Crore',\n",
              "  'range_kms': 401,\n",
              "  'battery_capacity': 93},\n",
              " {'model_name': 'Jaguar I-Pace',\n",
              "  'price': 'Rs. 1.19 Crore',\n",
              "  'range_kms': 470,\n",
              "  'battery_capacity': 90},\n",
              " {'model_name': 'PMV EaS E',\n",
              "  'price': 'Rs. 4.79 Lakh',\n",
              "  'range_kms': 160,\n",
              "  'battery_capacity': 10},\n",
              " {'model_name': 'Mercedes-Benz EQB',\n",
              "  'price': 'Rs. 77.50 Lakh',\n",
              "  'range_kms': 423,\n",
              "  'battery_capacity': 66.5},\n",
              " {'model_name': 'Volvo XC40 Recharge',\n",
              "  'price': 'Rs. 56.90 Lakh',\n",
              "  'range_kms': 418,\n",
              "  'battery_capacity': 78},\n",
              " {'model_name': 'Strom Motors R3',\n",
              "  'price': 'Rs. 4.50 Lakh',\n",
              "  'range_kms': 200,\n",
              "  'battery_capacity': 15},\n",
              " {'model_name': 'Mini Cooper SE',\n",
              "  'price': 'Rs. 53.50 Lakh',\n",
              "  'range_kms': 270,\n",
              "  'battery_capacity': 32.6},\n",
              " {'model_name': 'Hyundai IONIQ 5',\n",
              "  'price': 'Rs. 45.95 Lakh',\n",
              "  'range_kms': 631,\n",
              "  'battery_capacity': 72.6},\n",
              " {'model_name': 'BMW iX1',\n",
              "  'price': 'Rs. 66.90 Lakh',\n",
              "  'range_kms': 417,\n",
              "  'battery_capacity': 66.4},\n",
              " {'model_name': 'Volvo C40 Recharge',\n",
              "  'price': 'Rs. 62.95 Lakh',\n",
              "  'range_kms': 530,\n",
              "  'battery_capacity': 78},\n",
              " {'model_name': 'Mercedes-Benz EQE SUV',\n",
              "  'price': 'Rs. 1.39 Crore',\n",
              "  'range_kms': 550,\n",
              "  'battery_capacity': 90.56},\n",
              " {'model_name': 'Audi Q8 e-tron',\n",
              "  'price': 'Rs. 1.13 Crore',\n",
              "  'range_kms': 582,\n",
              "  'battery_capacity': 114},\n",
              " {'model_name': 'Pravaig DEFY',\n",
              "  'price': 'Rs. 39.50 Lakh',\n",
              "  'range_kms': 500,\n",
              "  'battery_capacity': 90.9},\n",
              " {'model_name': 'Mercedes-Benz AMG EQS',\n",
              "  'price': 'Rs. 2.45 Crore',\n",
              "  'range_kms': 580,\n",
              "  'battery_capacity': 107.8},\n",
              " {'model_name': 'Audi Q8 Sportback e-tron',\n",
              "  'price': 'Rs. 1.18 Crore',\n",
              "  'range_kms': 600,\n",
              "  'battery_capacity': 95}]"
            ]
          },
          "metadata": {},
          "execution_count": 20
        }
      ],
      "source": [
        "response = chain.run(final_text)\n",
        "response"
      ]
    },
    {
      "cell_type": "code",
      "execution_count": null,
      "id": "6aac584d",
      "metadata": {
        "colab": {
          "base_uri": "https://localhost:8080/"
        },
        "id": "6aac584d",
        "outputId": "d595db3f-72a5-4565-bb34-03e95d84139b"
      },
      "outputs": [
        {
          "output_type": "execute_result",
          "data": {
            "text/plain": [
              "list"
            ]
          },
          "metadata": {},
          "execution_count": 21
        }
      ],
      "source": [
        "type(response)"
      ]
    },
    {
      "cell_type": "markdown",
      "id": "257ce688",
      "metadata": {
        "id": "257ce688"
      },
      "source": [
        "### To buy or to wait"
      ]
    },
    {
      "cell_type": "code",
      "execution_count": null,
      "id": "cedaec32",
      "metadata": {
        "id": "cedaec32"
      },
      "outputs": [],
      "source": [
        "import pandas as pd\n",
        "import json"
      ]
    },
    {
      "cell_type": "code",
      "execution_count": null,
      "id": "d6a19ef6",
      "metadata": {
        "id": "d6a19ef6"
      },
      "outputs": [],
      "source": [
        "ev_df = pd.read_json(json.dumps(response))"
      ]
    },
    {
      "cell_type": "code",
      "execution_count": null,
      "id": "8bab1f1d",
      "metadata": {
        "colab": {
          "base_uri": "https://localhost:8080/",
          "height": 1000
        },
        "id": "8bab1f1d",
        "outputId": "868cdc5f-5782-48a2-cc6a-136546aabe83"
      },
      "outputs": [
        {
          "output_type": "execute_result",
          "data": {
            "text/plain": [
              "                  model_name           price  range_kms  battery_capacity\n",
              "0              Tata Tiago EV   Rs. 8.69 Lakh      315.0             19.20\n",
              "1              Tata Nexon EV  Rs. 14.74 Lakh      465.0             30.00\n",
              "2                    Kia EV6  Rs. 60.95 Lakh        NaN             77.40\n",
              "3         Mahindra XUV400 EV  Rs. 15.98 Lakh      456.0             34.50\n",
              "4                MG Comet EV   Rs. 7.98 Lakh      230.0             17.30\n",
              "5                     BMW i7  Rs. 2.03 Crore      625.0            101.70\n",
              "6              Tata Tigor EV  Rs. 12.49 Lakh      315.0             26.00\n",
              "7                     BMW iX  Rs. 1.21 Crore      425.0             71.00\n",
              "8                   MG ZS EV  Rs. 22.88 Lakh      461.0             50.30\n",
              "9                Citroen eC3  Rs. 11.61 Lakh      320.0             29.20\n",
              "10     Hyundai Kona Electric  Rs. 23.84 Lakh      452.0             39.20\n",
              "11              Lotus Eletre  Rs. 2.55 Crore        NaN               NaN\n",
              "12         Mercedes-Benz EQS  Rs. 1.59 Crore      857.0            107.80\n",
              "13                    BMW i4  Rs. 72.50 Lakh      590.0             70.20\n",
              "14            Audi e-tron GT  Rs. 1.70 Crore      388.0             93.00\n",
              "15                BYD Atto 3  Rs. 33.99 Lakh      521.0             60.48\n",
              "16                    BYD E6  Rs. 29.15 Lakh      415.0             71.70\n",
              "17               Audi e-tron  Rs. 1.02 Crore      484.0             95.00\n",
              "18            Porsche Taycan  Rs. 1.60 Crore      395.0             93.40\n",
              "19         Audi RS e-tron GT  Rs. 1.93 Crore      401.0             93.00\n",
              "20             Jaguar I-Pace  Rs. 1.19 Crore      470.0             90.00\n",
              "21                 PMV EaS E   Rs. 4.79 Lakh      160.0             10.00\n",
              "22         Mercedes-Benz EQB  Rs. 77.50 Lakh      423.0             66.50\n",
              "23       Volvo XC40 Recharge  Rs. 56.90 Lakh      418.0             78.00\n",
              "24           Strom Motors R3   Rs. 4.50 Lakh      200.0             15.00\n",
              "25            Mini Cooper SE  Rs. 53.50 Lakh      270.0             32.60\n",
              "26           Hyundai IONIQ 5  Rs. 45.95 Lakh      631.0             72.60\n",
              "27                   BMW iX1  Rs. 66.90 Lakh      417.0             66.40\n",
              "28        Volvo C40 Recharge  Rs. 62.95 Lakh      530.0             78.00\n",
              "29     Mercedes-Benz EQE SUV  Rs. 1.39 Crore      550.0             90.56\n",
              "30            Audi Q8 e-tron  Rs. 1.13 Crore      582.0            114.00\n",
              "31              Pravaig DEFY  Rs. 39.50 Lakh      500.0             90.90\n",
              "32     Mercedes-Benz AMG EQS  Rs. 2.45 Crore      580.0            107.80\n",
              "33  Audi Q8 Sportback e-tron  Rs. 1.18 Crore      600.0             95.00"
            ],
            "text/html": [
              "\n",
              "  <div id=\"df-107062e1-af67-48c2-bdcd-d4ffe353070d\" class=\"colab-df-container\">\n",
              "    <div>\n",
              "<style scoped>\n",
              "    .dataframe tbody tr th:only-of-type {\n",
              "        vertical-align: middle;\n",
              "    }\n",
              "\n",
              "    .dataframe tbody tr th {\n",
              "        vertical-align: top;\n",
              "    }\n",
              "\n",
              "    .dataframe thead th {\n",
              "        text-align: right;\n",
              "    }\n",
              "</style>\n",
              "<table border=\"1\" class=\"dataframe\">\n",
              "  <thead>\n",
              "    <tr style=\"text-align: right;\">\n",
              "      <th></th>\n",
              "      <th>model_name</th>\n",
              "      <th>price</th>\n",
              "      <th>range_kms</th>\n",
              "      <th>battery_capacity</th>\n",
              "    </tr>\n",
              "  </thead>\n",
              "  <tbody>\n",
              "    <tr>\n",
              "      <th>0</th>\n",
              "      <td>Tata Tiago EV</td>\n",
              "      <td>Rs. 8.69 Lakh</td>\n",
              "      <td>315.0</td>\n",
              "      <td>19.20</td>\n",
              "    </tr>\n",
              "    <tr>\n",
              "      <th>1</th>\n",
              "      <td>Tata Nexon EV</td>\n",
              "      <td>Rs. 14.74 Lakh</td>\n",
              "      <td>465.0</td>\n",
              "      <td>30.00</td>\n",
              "    </tr>\n",
              "    <tr>\n",
              "      <th>2</th>\n",
              "      <td>Kia EV6</td>\n",
              "      <td>Rs. 60.95 Lakh</td>\n",
              "      <td>NaN</td>\n",
              "      <td>77.40</td>\n",
              "    </tr>\n",
              "    <tr>\n",
              "      <th>3</th>\n",
              "      <td>Mahindra XUV400 EV</td>\n",
              "      <td>Rs. 15.98 Lakh</td>\n",
              "      <td>456.0</td>\n",
              "      <td>34.50</td>\n",
              "    </tr>\n",
              "    <tr>\n",
              "      <th>4</th>\n",
              "      <td>MG Comet EV</td>\n",
              "      <td>Rs. 7.98 Lakh</td>\n",
              "      <td>230.0</td>\n",
              "      <td>17.30</td>\n",
              "    </tr>\n",
              "    <tr>\n",
              "      <th>5</th>\n",
              "      <td>BMW i7</td>\n",
              "      <td>Rs. 2.03 Crore</td>\n",
              "      <td>625.0</td>\n",
              "      <td>101.70</td>\n",
              "    </tr>\n",
              "    <tr>\n",
              "      <th>6</th>\n",
              "      <td>Tata Tigor EV</td>\n",
              "      <td>Rs. 12.49 Lakh</td>\n",
              "      <td>315.0</td>\n",
              "      <td>26.00</td>\n",
              "    </tr>\n",
              "    <tr>\n",
              "      <th>7</th>\n",
              "      <td>BMW iX</td>\n",
              "      <td>Rs. 1.21 Crore</td>\n",
              "      <td>425.0</td>\n",
              "      <td>71.00</td>\n",
              "    </tr>\n",
              "    <tr>\n",
              "      <th>8</th>\n",
              "      <td>MG ZS EV</td>\n",
              "      <td>Rs. 22.88 Lakh</td>\n",
              "      <td>461.0</td>\n",
              "      <td>50.30</td>\n",
              "    </tr>\n",
              "    <tr>\n",
              "      <th>9</th>\n",
              "      <td>Citroen eC3</td>\n",
              "      <td>Rs. 11.61 Lakh</td>\n",
              "      <td>320.0</td>\n",
              "      <td>29.20</td>\n",
              "    </tr>\n",
              "    <tr>\n",
              "      <th>10</th>\n",
              "      <td>Hyundai Kona Electric</td>\n",
              "      <td>Rs. 23.84 Lakh</td>\n",
              "      <td>452.0</td>\n",
              "      <td>39.20</td>\n",
              "    </tr>\n",
              "    <tr>\n",
              "      <th>11</th>\n",
              "      <td>Lotus Eletre</td>\n",
              "      <td>Rs. 2.55 Crore</td>\n",
              "      <td>NaN</td>\n",
              "      <td>NaN</td>\n",
              "    </tr>\n",
              "    <tr>\n",
              "      <th>12</th>\n",
              "      <td>Mercedes-Benz EQS</td>\n",
              "      <td>Rs. 1.59 Crore</td>\n",
              "      <td>857.0</td>\n",
              "      <td>107.80</td>\n",
              "    </tr>\n",
              "    <tr>\n",
              "      <th>13</th>\n",
              "      <td>BMW i4</td>\n",
              "      <td>Rs. 72.50 Lakh</td>\n",
              "      <td>590.0</td>\n",
              "      <td>70.20</td>\n",
              "    </tr>\n",
              "    <tr>\n",
              "      <th>14</th>\n",
              "      <td>Audi e-tron GT</td>\n",
              "      <td>Rs. 1.70 Crore</td>\n",
              "      <td>388.0</td>\n",
              "      <td>93.00</td>\n",
              "    </tr>\n",
              "    <tr>\n",
              "      <th>15</th>\n",
              "      <td>BYD Atto 3</td>\n",
              "      <td>Rs. 33.99 Lakh</td>\n",
              "      <td>521.0</td>\n",
              "      <td>60.48</td>\n",
              "    </tr>\n",
              "    <tr>\n",
              "      <th>16</th>\n",
              "      <td>BYD E6</td>\n",
              "      <td>Rs. 29.15 Lakh</td>\n",
              "      <td>415.0</td>\n",
              "      <td>71.70</td>\n",
              "    </tr>\n",
              "    <tr>\n",
              "      <th>17</th>\n",
              "      <td>Audi e-tron</td>\n",
              "      <td>Rs. 1.02 Crore</td>\n",
              "      <td>484.0</td>\n",
              "      <td>95.00</td>\n",
              "    </tr>\n",
              "    <tr>\n",
              "      <th>18</th>\n",
              "      <td>Porsche Taycan</td>\n",
              "      <td>Rs. 1.60 Crore</td>\n",
              "      <td>395.0</td>\n",
              "      <td>93.40</td>\n",
              "    </tr>\n",
              "    <tr>\n",
              "      <th>19</th>\n",
              "      <td>Audi RS e-tron GT</td>\n",
              "      <td>Rs. 1.93 Crore</td>\n",
              "      <td>401.0</td>\n",
              "      <td>93.00</td>\n",
              "    </tr>\n",
              "    <tr>\n",
              "      <th>20</th>\n",
              "      <td>Jaguar I-Pace</td>\n",
              "      <td>Rs. 1.19 Crore</td>\n",
              "      <td>470.0</td>\n",
              "      <td>90.00</td>\n",
              "    </tr>\n",
              "    <tr>\n",
              "      <th>21</th>\n",
              "      <td>PMV EaS E</td>\n",
              "      <td>Rs. 4.79 Lakh</td>\n",
              "      <td>160.0</td>\n",
              "      <td>10.00</td>\n",
              "    </tr>\n",
              "    <tr>\n",
              "      <th>22</th>\n",
              "      <td>Mercedes-Benz EQB</td>\n",
              "      <td>Rs. 77.50 Lakh</td>\n",
              "      <td>423.0</td>\n",
              "      <td>66.50</td>\n",
              "    </tr>\n",
              "    <tr>\n",
              "      <th>23</th>\n",
              "      <td>Volvo XC40 Recharge</td>\n",
              "      <td>Rs. 56.90 Lakh</td>\n",
              "      <td>418.0</td>\n",
              "      <td>78.00</td>\n",
              "    </tr>\n",
              "    <tr>\n",
              "      <th>24</th>\n",
              "      <td>Strom Motors R3</td>\n",
              "      <td>Rs. 4.50 Lakh</td>\n",
              "      <td>200.0</td>\n",
              "      <td>15.00</td>\n",
              "    </tr>\n",
              "    <tr>\n",
              "      <th>25</th>\n",
              "      <td>Mini Cooper SE</td>\n",
              "      <td>Rs. 53.50 Lakh</td>\n",
              "      <td>270.0</td>\n",
              "      <td>32.60</td>\n",
              "    </tr>\n",
              "    <tr>\n",
              "      <th>26</th>\n",
              "      <td>Hyundai IONIQ 5</td>\n",
              "      <td>Rs. 45.95 Lakh</td>\n",
              "      <td>631.0</td>\n",
              "      <td>72.60</td>\n",
              "    </tr>\n",
              "    <tr>\n",
              "      <th>27</th>\n",
              "      <td>BMW iX1</td>\n",
              "      <td>Rs. 66.90 Lakh</td>\n",
              "      <td>417.0</td>\n",
              "      <td>66.40</td>\n",
              "    </tr>\n",
              "    <tr>\n",
              "      <th>28</th>\n",
              "      <td>Volvo C40 Recharge</td>\n",
              "      <td>Rs. 62.95 Lakh</td>\n",
              "      <td>530.0</td>\n",
              "      <td>78.00</td>\n",
              "    </tr>\n",
              "    <tr>\n",
              "      <th>29</th>\n",
              "      <td>Mercedes-Benz EQE SUV</td>\n",
              "      <td>Rs. 1.39 Crore</td>\n",
              "      <td>550.0</td>\n",
              "      <td>90.56</td>\n",
              "    </tr>\n",
              "    <tr>\n",
              "      <th>30</th>\n",
              "      <td>Audi Q8 e-tron</td>\n",
              "      <td>Rs. 1.13 Crore</td>\n",
              "      <td>582.0</td>\n",
              "      <td>114.00</td>\n",
              "    </tr>\n",
              "    <tr>\n",
              "      <th>31</th>\n",
              "      <td>Pravaig DEFY</td>\n",
              "      <td>Rs. 39.50 Lakh</td>\n",
              "      <td>500.0</td>\n",
              "      <td>90.90</td>\n",
              "    </tr>\n",
              "    <tr>\n",
              "      <th>32</th>\n",
              "      <td>Mercedes-Benz AMG EQS</td>\n",
              "      <td>Rs. 2.45 Crore</td>\n",
              "      <td>580.0</td>\n",
              "      <td>107.80</td>\n",
              "    </tr>\n",
              "    <tr>\n",
              "      <th>33</th>\n",
              "      <td>Audi Q8 Sportback e-tron</td>\n",
              "      <td>Rs. 1.18 Crore</td>\n",
              "      <td>600.0</td>\n",
              "      <td>95.00</td>\n",
              "    </tr>\n",
              "  </tbody>\n",
              "</table>\n",
              "</div>\n",
              "    <div class=\"colab-df-buttons\">\n",
              "\n",
              "  <div class=\"colab-df-container\">\n",
              "    <button class=\"colab-df-convert\" onclick=\"convertToInteractive('df-107062e1-af67-48c2-bdcd-d4ffe353070d')\"\n",
              "            title=\"Convert this dataframe to an interactive table.\"\n",
              "            style=\"display:none;\">\n",
              "\n",
              "  <svg xmlns=\"http://www.w3.org/2000/svg\" height=\"24px\" viewBox=\"0 -960 960 960\">\n",
              "    <path d=\"M120-120v-720h720v720H120Zm60-500h600v-160H180v160Zm220 220h160v-160H400v160Zm0 220h160v-160H400v160ZM180-400h160v-160H180v160Zm440 0h160v-160H620v160ZM180-180h160v-160H180v160Zm440 0h160v-160H620v160Z\"/>\n",
              "  </svg>\n",
              "    </button>\n",
              "\n",
              "  <style>\n",
              "    .colab-df-container {\n",
              "      display:flex;\n",
              "      gap: 12px;\n",
              "    }\n",
              "\n",
              "    .colab-df-convert {\n",
              "      background-color: #E8F0FE;\n",
              "      border: none;\n",
              "      border-radius: 50%;\n",
              "      cursor: pointer;\n",
              "      display: none;\n",
              "      fill: #1967D2;\n",
              "      height: 32px;\n",
              "      padding: 0 0 0 0;\n",
              "      width: 32px;\n",
              "    }\n",
              "\n",
              "    .colab-df-convert:hover {\n",
              "      background-color: #E2EBFA;\n",
              "      box-shadow: 0px 1px 2px rgba(60, 64, 67, 0.3), 0px 1px 3px 1px rgba(60, 64, 67, 0.15);\n",
              "      fill: #174EA6;\n",
              "    }\n",
              "\n",
              "    .colab-df-buttons div {\n",
              "      margin-bottom: 4px;\n",
              "    }\n",
              "\n",
              "    [theme=dark] .colab-df-convert {\n",
              "      background-color: #3B4455;\n",
              "      fill: #D2E3FC;\n",
              "    }\n",
              "\n",
              "    [theme=dark] .colab-df-convert:hover {\n",
              "      background-color: #434B5C;\n",
              "      box-shadow: 0px 1px 3px 1px rgba(0, 0, 0, 0.15);\n",
              "      filter: drop-shadow(0px 1px 2px rgba(0, 0, 0, 0.3));\n",
              "      fill: #FFFFFF;\n",
              "    }\n",
              "  </style>\n",
              "\n",
              "    <script>\n",
              "      const buttonEl =\n",
              "        document.querySelector('#df-107062e1-af67-48c2-bdcd-d4ffe353070d button.colab-df-convert');\n",
              "      buttonEl.style.display =\n",
              "        google.colab.kernel.accessAllowed ? 'block' : 'none';\n",
              "\n",
              "      async function convertToInteractive(key) {\n",
              "        const element = document.querySelector('#df-107062e1-af67-48c2-bdcd-d4ffe353070d');\n",
              "        const dataTable =\n",
              "          await google.colab.kernel.invokeFunction('convertToInteractive',\n",
              "                                                    [key], {});\n",
              "        if (!dataTable) return;\n",
              "\n",
              "        const docLinkHtml = 'Like what you see? Visit the ' +\n",
              "          '<a target=\"_blank\" href=https://colab.research.google.com/notebooks/data_table.ipynb>data table notebook</a>'\n",
              "          + ' to learn more about interactive tables.';\n",
              "        element.innerHTML = '';\n",
              "        dataTable['output_type'] = 'display_data';\n",
              "        await google.colab.output.renderOutput(dataTable, element);\n",
              "        const docLink = document.createElement('div');\n",
              "        docLink.innerHTML = docLinkHtml;\n",
              "        element.appendChild(docLink);\n",
              "      }\n",
              "    </script>\n",
              "  </div>\n",
              "\n",
              "\n",
              "<div id=\"df-ba20ba7c-8e5e-41f9-ba89-bd0aab3b1741\">\n",
              "  <button class=\"colab-df-quickchart\" onclick=\"quickchart('df-ba20ba7c-8e5e-41f9-ba89-bd0aab3b1741')\"\n",
              "            title=\"Suggest charts\"\n",
              "            style=\"display:none;\">\n",
              "\n",
              "<svg xmlns=\"http://www.w3.org/2000/svg\" height=\"24px\"viewBox=\"0 0 24 24\"\n",
              "     width=\"24px\">\n",
              "    <g>\n",
              "        <path d=\"M19 3H5c-1.1 0-2 .9-2 2v14c0 1.1.9 2 2 2h14c1.1 0 2-.9 2-2V5c0-1.1-.9-2-2-2zM9 17H7v-7h2v7zm4 0h-2V7h2v10zm4 0h-2v-4h2v4z\"/>\n",
              "    </g>\n",
              "</svg>\n",
              "  </button>\n",
              "\n",
              "<style>\n",
              "  .colab-df-quickchart {\n",
              "      --bg-color: #E8F0FE;\n",
              "      --fill-color: #1967D2;\n",
              "      --hover-bg-color: #E2EBFA;\n",
              "      --hover-fill-color: #174EA6;\n",
              "      --disabled-fill-color: #AAA;\n",
              "      --disabled-bg-color: #DDD;\n",
              "  }\n",
              "\n",
              "  [theme=dark] .colab-df-quickchart {\n",
              "      --bg-color: #3B4455;\n",
              "      --fill-color: #D2E3FC;\n",
              "      --hover-bg-color: #434B5C;\n",
              "      --hover-fill-color: #FFFFFF;\n",
              "      --disabled-bg-color: #3B4455;\n",
              "      --disabled-fill-color: #666;\n",
              "  }\n",
              "\n",
              "  .colab-df-quickchart {\n",
              "    background-color: var(--bg-color);\n",
              "    border: none;\n",
              "    border-radius: 50%;\n",
              "    cursor: pointer;\n",
              "    display: none;\n",
              "    fill: var(--fill-color);\n",
              "    height: 32px;\n",
              "    padding: 0;\n",
              "    width: 32px;\n",
              "  }\n",
              "\n",
              "  .colab-df-quickchart:hover {\n",
              "    background-color: var(--hover-bg-color);\n",
              "    box-shadow: 0 1px 2px rgba(60, 64, 67, 0.3), 0 1px 3px 1px rgba(60, 64, 67, 0.15);\n",
              "    fill: var(--button-hover-fill-color);\n",
              "  }\n",
              "\n",
              "  .colab-df-quickchart-complete:disabled,\n",
              "  .colab-df-quickchart-complete:disabled:hover {\n",
              "    background-color: var(--disabled-bg-color);\n",
              "    fill: var(--disabled-fill-color);\n",
              "    box-shadow: none;\n",
              "  }\n",
              "\n",
              "  .colab-df-spinner {\n",
              "    border: 2px solid var(--fill-color);\n",
              "    border-color: transparent;\n",
              "    border-bottom-color: var(--fill-color);\n",
              "    animation:\n",
              "      spin 1s steps(1) infinite;\n",
              "  }\n",
              "\n",
              "  @keyframes spin {\n",
              "    0% {\n",
              "      border-color: transparent;\n",
              "      border-bottom-color: var(--fill-color);\n",
              "      border-left-color: var(--fill-color);\n",
              "    }\n",
              "    20% {\n",
              "      border-color: transparent;\n",
              "      border-left-color: var(--fill-color);\n",
              "      border-top-color: var(--fill-color);\n",
              "    }\n",
              "    30% {\n",
              "      border-color: transparent;\n",
              "      border-left-color: var(--fill-color);\n",
              "      border-top-color: var(--fill-color);\n",
              "      border-right-color: var(--fill-color);\n",
              "    }\n",
              "    40% {\n",
              "      border-color: transparent;\n",
              "      border-right-color: var(--fill-color);\n",
              "      border-top-color: var(--fill-color);\n",
              "    }\n",
              "    60% {\n",
              "      border-color: transparent;\n",
              "      border-right-color: var(--fill-color);\n",
              "    }\n",
              "    80% {\n",
              "      border-color: transparent;\n",
              "      border-right-color: var(--fill-color);\n",
              "      border-bottom-color: var(--fill-color);\n",
              "    }\n",
              "    90% {\n",
              "      border-color: transparent;\n",
              "      border-bottom-color: var(--fill-color);\n",
              "    }\n",
              "  }\n",
              "</style>\n",
              "\n",
              "  <script>\n",
              "    async function quickchart(key) {\n",
              "      const quickchartButtonEl =\n",
              "        document.querySelector('#' + key + ' button');\n",
              "      quickchartButtonEl.disabled = true;  // To prevent multiple clicks.\n",
              "      quickchartButtonEl.classList.add('colab-df-spinner');\n",
              "      try {\n",
              "        const charts = await google.colab.kernel.invokeFunction(\n",
              "            'suggestCharts', [key], {});\n",
              "      } catch (error) {\n",
              "        console.error('Error during call to suggestCharts:', error);\n",
              "      }\n",
              "      quickchartButtonEl.classList.remove('colab-df-spinner');\n",
              "      quickchartButtonEl.classList.add('colab-df-quickchart-complete');\n",
              "    }\n",
              "    (() => {\n",
              "      let quickchartButtonEl =\n",
              "        document.querySelector('#df-ba20ba7c-8e5e-41f9-ba89-bd0aab3b1741 button');\n",
              "      quickchartButtonEl.style.display =\n",
              "        google.colab.kernel.accessAllowed ? 'block' : 'none';\n",
              "    })();\n",
              "  </script>\n",
              "</div>\n",
              "    </div>\n",
              "  </div>\n"
            ]
          },
          "metadata": {},
          "execution_count": 24
        }
      ],
      "source": [
        "ev_df"
      ]
    },
    {
      "cell_type": "code",
      "execution_count": null,
      "id": "df1c7fed",
      "metadata": {
        "id": "df1c7fed"
      },
      "outputs": [],
      "source": [
        "ev_df['price_lakhs'] = ev_df.price.map(lambda x: (float(x.split(\" \")[1])*100\n",
        "                                                if 'crore' in (x.split(\" \")[2].lower())\n",
        "                                                else float(x.split(\" \")[1])))"
      ]
    },
    {
      "cell_type": "code",
      "execution_count": null,
      "id": "59e535bd",
      "metadata": {
        "id": "59e535bd"
      },
      "outputs": [],
      "source": [
        "ev_df['make'] = ev_df.model_name.map(lambda x: x.split()[0])"
      ]
    },
    {
      "cell_type": "code",
      "execution_count": null,
      "id": "f003cff1",
      "metadata": {
        "colab": {
          "base_uri": "https://localhost:8080/",
          "height": 363
        },
        "id": "f003cff1",
        "outputId": "46f87e6e-7ad9-4bb7-dc3c-59f8b310ad92"
      },
      "outputs": [
        {
          "output_type": "execute_result",
          "data": {
            "text/plain": [
              "           model_name           price  range_kms  battery_capacity  \\\n",
              "0       Tata Tiago EV   Rs. 8.69 Lakh      315.0              19.2   \n",
              "1       Tata Nexon EV  Rs. 14.74 Lakh      465.0              30.0   \n",
              "2             Kia EV6  Rs. 60.95 Lakh        NaN              77.4   \n",
              "3  Mahindra XUV400 EV  Rs. 15.98 Lakh      456.0              34.5   \n",
              "4         MG Comet EV   Rs. 7.98 Lakh      230.0              17.3   \n",
              "5              BMW i7  Rs. 2.03 Crore      625.0             101.7   \n",
              "6       Tata Tigor EV  Rs. 12.49 Lakh      315.0              26.0   \n",
              "7              BMW iX  Rs. 1.21 Crore      425.0              71.0   \n",
              "8            MG ZS EV  Rs. 22.88 Lakh      461.0              50.3   \n",
              "9         Citroen eC3  Rs. 11.61 Lakh      320.0              29.2   \n",
              "\n",
              "   price_lakhs      make  \n",
              "0         8.69      Tata  \n",
              "1        14.74      Tata  \n",
              "2        60.95       Kia  \n",
              "3        15.98  Mahindra  \n",
              "4         7.98        MG  \n",
              "5       203.00       BMW  \n",
              "6        12.49      Tata  \n",
              "7       121.00       BMW  \n",
              "8        22.88        MG  \n",
              "9        11.61   Citroen  "
            ],
            "text/html": [
              "\n",
              "  <div id=\"df-6c6141d4-ff42-4e40-814a-bb482bf80b17\" class=\"colab-df-container\">\n",
              "    <div>\n",
              "<style scoped>\n",
              "    .dataframe tbody tr th:only-of-type {\n",
              "        vertical-align: middle;\n",
              "    }\n",
              "\n",
              "    .dataframe tbody tr th {\n",
              "        vertical-align: top;\n",
              "    }\n",
              "\n",
              "    .dataframe thead th {\n",
              "        text-align: right;\n",
              "    }\n",
              "</style>\n",
              "<table border=\"1\" class=\"dataframe\">\n",
              "  <thead>\n",
              "    <tr style=\"text-align: right;\">\n",
              "      <th></th>\n",
              "      <th>model_name</th>\n",
              "      <th>price</th>\n",
              "      <th>range_kms</th>\n",
              "      <th>battery_capacity</th>\n",
              "      <th>price_lakhs</th>\n",
              "      <th>make</th>\n",
              "    </tr>\n",
              "  </thead>\n",
              "  <tbody>\n",
              "    <tr>\n",
              "      <th>0</th>\n",
              "      <td>Tata Tiago EV</td>\n",
              "      <td>Rs. 8.69 Lakh</td>\n",
              "      <td>315.0</td>\n",
              "      <td>19.2</td>\n",
              "      <td>8.69</td>\n",
              "      <td>Tata</td>\n",
              "    </tr>\n",
              "    <tr>\n",
              "      <th>1</th>\n",
              "      <td>Tata Nexon EV</td>\n",
              "      <td>Rs. 14.74 Lakh</td>\n",
              "      <td>465.0</td>\n",
              "      <td>30.0</td>\n",
              "      <td>14.74</td>\n",
              "      <td>Tata</td>\n",
              "    </tr>\n",
              "    <tr>\n",
              "      <th>2</th>\n",
              "      <td>Kia EV6</td>\n",
              "      <td>Rs. 60.95 Lakh</td>\n",
              "      <td>NaN</td>\n",
              "      <td>77.4</td>\n",
              "      <td>60.95</td>\n",
              "      <td>Kia</td>\n",
              "    </tr>\n",
              "    <tr>\n",
              "      <th>3</th>\n",
              "      <td>Mahindra XUV400 EV</td>\n",
              "      <td>Rs. 15.98 Lakh</td>\n",
              "      <td>456.0</td>\n",
              "      <td>34.5</td>\n",
              "      <td>15.98</td>\n",
              "      <td>Mahindra</td>\n",
              "    </tr>\n",
              "    <tr>\n",
              "      <th>4</th>\n",
              "      <td>MG Comet EV</td>\n",
              "      <td>Rs. 7.98 Lakh</td>\n",
              "      <td>230.0</td>\n",
              "      <td>17.3</td>\n",
              "      <td>7.98</td>\n",
              "      <td>MG</td>\n",
              "    </tr>\n",
              "    <tr>\n",
              "      <th>5</th>\n",
              "      <td>BMW i7</td>\n",
              "      <td>Rs. 2.03 Crore</td>\n",
              "      <td>625.0</td>\n",
              "      <td>101.7</td>\n",
              "      <td>203.00</td>\n",
              "      <td>BMW</td>\n",
              "    </tr>\n",
              "    <tr>\n",
              "      <th>6</th>\n",
              "      <td>Tata Tigor EV</td>\n",
              "      <td>Rs. 12.49 Lakh</td>\n",
              "      <td>315.0</td>\n",
              "      <td>26.0</td>\n",
              "      <td>12.49</td>\n",
              "      <td>Tata</td>\n",
              "    </tr>\n",
              "    <tr>\n",
              "      <th>7</th>\n",
              "      <td>BMW iX</td>\n",
              "      <td>Rs. 1.21 Crore</td>\n",
              "      <td>425.0</td>\n",
              "      <td>71.0</td>\n",
              "      <td>121.00</td>\n",
              "      <td>BMW</td>\n",
              "    </tr>\n",
              "    <tr>\n",
              "      <th>8</th>\n",
              "      <td>MG ZS EV</td>\n",
              "      <td>Rs. 22.88 Lakh</td>\n",
              "      <td>461.0</td>\n",
              "      <td>50.3</td>\n",
              "      <td>22.88</td>\n",
              "      <td>MG</td>\n",
              "    </tr>\n",
              "    <tr>\n",
              "      <th>9</th>\n",
              "      <td>Citroen eC3</td>\n",
              "      <td>Rs. 11.61 Lakh</td>\n",
              "      <td>320.0</td>\n",
              "      <td>29.2</td>\n",
              "      <td>11.61</td>\n",
              "      <td>Citroen</td>\n",
              "    </tr>\n",
              "  </tbody>\n",
              "</table>\n",
              "</div>\n",
              "    <div class=\"colab-df-buttons\">\n",
              "\n",
              "  <div class=\"colab-df-container\">\n",
              "    <button class=\"colab-df-convert\" onclick=\"convertToInteractive('df-6c6141d4-ff42-4e40-814a-bb482bf80b17')\"\n",
              "            title=\"Convert this dataframe to an interactive table.\"\n",
              "            style=\"display:none;\">\n",
              "\n",
              "  <svg xmlns=\"http://www.w3.org/2000/svg\" height=\"24px\" viewBox=\"0 -960 960 960\">\n",
              "    <path d=\"M120-120v-720h720v720H120Zm60-500h600v-160H180v160Zm220 220h160v-160H400v160Zm0 220h160v-160H400v160ZM180-400h160v-160H180v160Zm440 0h160v-160H620v160ZM180-180h160v-160H180v160Zm440 0h160v-160H620v160Z\"/>\n",
              "  </svg>\n",
              "    </button>\n",
              "\n",
              "  <style>\n",
              "    .colab-df-container {\n",
              "      display:flex;\n",
              "      gap: 12px;\n",
              "    }\n",
              "\n",
              "    .colab-df-convert {\n",
              "      background-color: #E8F0FE;\n",
              "      border: none;\n",
              "      border-radius: 50%;\n",
              "      cursor: pointer;\n",
              "      display: none;\n",
              "      fill: #1967D2;\n",
              "      height: 32px;\n",
              "      padding: 0 0 0 0;\n",
              "      width: 32px;\n",
              "    }\n",
              "\n",
              "    .colab-df-convert:hover {\n",
              "      background-color: #E2EBFA;\n",
              "      box-shadow: 0px 1px 2px rgba(60, 64, 67, 0.3), 0px 1px 3px 1px rgba(60, 64, 67, 0.15);\n",
              "      fill: #174EA6;\n",
              "    }\n",
              "\n",
              "    .colab-df-buttons div {\n",
              "      margin-bottom: 4px;\n",
              "    }\n",
              "\n",
              "    [theme=dark] .colab-df-convert {\n",
              "      background-color: #3B4455;\n",
              "      fill: #D2E3FC;\n",
              "    }\n",
              "\n",
              "    [theme=dark] .colab-df-convert:hover {\n",
              "      background-color: #434B5C;\n",
              "      box-shadow: 0px 1px 3px 1px rgba(0, 0, 0, 0.15);\n",
              "      filter: drop-shadow(0px 1px 2px rgba(0, 0, 0, 0.3));\n",
              "      fill: #FFFFFF;\n",
              "    }\n",
              "  </style>\n",
              "\n",
              "    <script>\n",
              "      const buttonEl =\n",
              "        document.querySelector('#df-6c6141d4-ff42-4e40-814a-bb482bf80b17 button.colab-df-convert');\n",
              "      buttonEl.style.display =\n",
              "        google.colab.kernel.accessAllowed ? 'block' : 'none';\n",
              "\n",
              "      async function convertToInteractive(key) {\n",
              "        const element = document.querySelector('#df-6c6141d4-ff42-4e40-814a-bb482bf80b17');\n",
              "        const dataTable =\n",
              "          await google.colab.kernel.invokeFunction('convertToInteractive',\n",
              "                                                    [key], {});\n",
              "        if (!dataTable) return;\n",
              "\n",
              "        const docLinkHtml = 'Like what you see? Visit the ' +\n",
              "          '<a target=\"_blank\" href=https://colab.research.google.com/notebooks/data_table.ipynb>data table notebook</a>'\n",
              "          + ' to learn more about interactive tables.';\n",
              "        element.innerHTML = '';\n",
              "        dataTable['output_type'] = 'display_data';\n",
              "        await google.colab.output.renderOutput(dataTable, element);\n",
              "        const docLink = document.createElement('div');\n",
              "        docLink.innerHTML = docLinkHtml;\n",
              "        element.appendChild(docLink);\n",
              "      }\n",
              "    </script>\n",
              "  </div>\n",
              "\n",
              "\n",
              "<div id=\"df-340c32b3-5668-4859-98bc-a686b952ea37\">\n",
              "  <button class=\"colab-df-quickchart\" onclick=\"quickchart('df-340c32b3-5668-4859-98bc-a686b952ea37')\"\n",
              "            title=\"Suggest charts\"\n",
              "            style=\"display:none;\">\n",
              "\n",
              "<svg xmlns=\"http://www.w3.org/2000/svg\" height=\"24px\"viewBox=\"0 0 24 24\"\n",
              "     width=\"24px\">\n",
              "    <g>\n",
              "        <path d=\"M19 3H5c-1.1 0-2 .9-2 2v14c0 1.1.9 2 2 2h14c1.1 0 2-.9 2-2V5c0-1.1-.9-2-2-2zM9 17H7v-7h2v7zm4 0h-2V7h2v10zm4 0h-2v-4h2v4z\"/>\n",
              "    </g>\n",
              "</svg>\n",
              "  </button>\n",
              "\n",
              "<style>\n",
              "  .colab-df-quickchart {\n",
              "      --bg-color: #E8F0FE;\n",
              "      --fill-color: #1967D2;\n",
              "      --hover-bg-color: #E2EBFA;\n",
              "      --hover-fill-color: #174EA6;\n",
              "      --disabled-fill-color: #AAA;\n",
              "      --disabled-bg-color: #DDD;\n",
              "  }\n",
              "\n",
              "  [theme=dark] .colab-df-quickchart {\n",
              "      --bg-color: #3B4455;\n",
              "      --fill-color: #D2E3FC;\n",
              "      --hover-bg-color: #434B5C;\n",
              "      --hover-fill-color: #FFFFFF;\n",
              "      --disabled-bg-color: #3B4455;\n",
              "      --disabled-fill-color: #666;\n",
              "  }\n",
              "\n",
              "  .colab-df-quickchart {\n",
              "    background-color: var(--bg-color);\n",
              "    border: none;\n",
              "    border-radius: 50%;\n",
              "    cursor: pointer;\n",
              "    display: none;\n",
              "    fill: var(--fill-color);\n",
              "    height: 32px;\n",
              "    padding: 0;\n",
              "    width: 32px;\n",
              "  }\n",
              "\n",
              "  .colab-df-quickchart:hover {\n",
              "    background-color: var(--hover-bg-color);\n",
              "    box-shadow: 0 1px 2px rgba(60, 64, 67, 0.3), 0 1px 3px 1px rgba(60, 64, 67, 0.15);\n",
              "    fill: var(--button-hover-fill-color);\n",
              "  }\n",
              "\n",
              "  .colab-df-quickchart-complete:disabled,\n",
              "  .colab-df-quickchart-complete:disabled:hover {\n",
              "    background-color: var(--disabled-bg-color);\n",
              "    fill: var(--disabled-fill-color);\n",
              "    box-shadow: none;\n",
              "  }\n",
              "\n",
              "  .colab-df-spinner {\n",
              "    border: 2px solid var(--fill-color);\n",
              "    border-color: transparent;\n",
              "    border-bottom-color: var(--fill-color);\n",
              "    animation:\n",
              "      spin 1s steps(1) infinite;\n",
              "  }\n",
              "\n",
              "  @keyframes spin {\n",
              "    0% {\n",
              "      border-color: transparent;\n",
              "      border-bottom-color: var(--fill-color);\n",
              "      border-left-color: var(--fill-color);\n",
              "    }\n",
              "    20% {\n",
              "      border-color: transparent;\n",
              "      border-left-color: var(--fill-color);\n",
              "      border-top-color: var(--fill-color);\n",
              "    }\n",
              "    30% {\n",
              "      border-color: transparent;\n",
              "      border-left-color: var(--fill-color);\n",
              "      border-top-color: var(--fill-color);\n",
              "      border-right-color: var(--fill-color);\n",
              "    }\n",
              "    40% {\n",
              "      border-color: transparent;\n",
              "      border-right-color: var(--fill-color);\n",
              "      border-top-color: var(--fill-color);\n",
              "    }\n",
              "    60% {\n",
              "      border-color: transparent;\n",
              "      border-right-color: var(--fill-color);\n",
              "    }\n",
              "    80% {\n",
              "      border-color: transparent;\n",
              "      border-right-color: var(--fill-color);\n",
              "      border-bottom-color: var(--fill-color);\n",
              "    }\n",
              "    90% {\n",
              "      border-color: transparent;\n",
              "      border-bottom-color: var(--fill-color);\n",
              "    }\n",
              "  }\n",
              "</style>\n",
              "\n",
              "  <script>\n",
              "    async function quickchart(key) {\n",
              "      const quickchartButtonEl =\n",
              "        document.querySelector('#' + key + ' button');\n",
              "      quickchartButtonEl.disabled = true;  // To prevent multiple clicks.\n",
              "      quickchartButtonEl.classList.add('colab-df-spinner');\n",
              "      try {\n",
              "        const charts = await google.colab.kernel.invokeFunction(\n",
              "            'suggestCharts', [key], {});\n",
              "      } catch (error) {\n",
              "        console.error('Error during call to suggestCharts:', error);\n",
              "      }\n",
              "      quickchartButtonEl.classList.remove('colab-df-spinner');\n",
              "      quickchartButtonEl.classList.add('colab-df-quickchart-complete');\n",
              "    }\n",
              "    (() => {\n",
              "      let quickchartButtonEl =\n",
              "        document.querySelector('#df-340c32b3-5668-4859-98bc-a686b952ea37 button');\n",
              "      quickchartButtonEl.style.display =\n",
              "        google.colab.kernel.accessAllowed ? 'block' : 'none';\n",
              "    })();\n",
              "  </script>\n",
              "</div>\n",
              "    </div>\n",
              "  </div>\n"
            ]
          },
          "metadata": {},
          "execution_count": 27
        }
      ],
      "source": [
        "ev_df[0:10]"
      ]
    },
    {
      "cell_type": "code",
      "execution_count": null,
      "id": "aaa92bbe",
      "metadata": {
        "id": "aaa92bbe"
      },
      "outputs": [],
      "source": [
        "ev_df.to_csv('ev_models.csv', index = False)"
      ]
    },
    {
      "cell_type": "markdown",
      "source": [
        "## Using Pydantic\n",
        "\n",
        "https://docs.pydantic.dev/latest/\n",
        "\n",
        "```\n",
        "schema = {\n",
        "    \"properties\": {\n",
        "        \"model_name\": {\"type\": \"string\"},\n",
        "        \"price\": {\"type\": \"string\"},\n",
        "        \"range_kms\": {\"type\": \"integer\"},\n",
        "        \"battery_capacity\": {\"type\": \"integer\"},\n",
        "    },\n",
        "    \"required\": [\"person_name\", \"price_lakhs\", \"range_kms\"],\n",
        "}\n",
        "\n",
        "```"
      ],
      "metadata": {
        "id": "tvBnrLIUBsAK"
      },
      "id": "tvBnrLIUBsAK"
    },
    {
      "cell_type": "code",
      "source": [
        "from typing import Optional, List\n",
        "from pydantic import BaseModel, Field\n",
        "from langchain.chains import create_extraction_chain_pydantic"
      ],
      "metadata": {
        "id": "qHyRAbDu5f_b"
      },
      "id": "qHyRAbDu5f_b",
      "execution_count": null,
      "outputs": []
    },
    {
      "cell_type": "code",
      "source": [
        "# Pydantic data class\n",
        "class Properties(BaseModel):\n",
        "    model_name: str = Field(description=\"The name of the EV model\")\n",
        "    price: str = Field(description=\"Price of the model in lakhs (Indian Rupees)\")\n",
        "    range_kms: int = Field(description=\"Kilometers it would travel aftera single full charge\")\n",
        "    battery_capacity: Optional[int] = Field(description=\"Battery Capacity of the model\")"
      ],
      "metadata": {
        "id": "dwU4cwpVFvrL"
      },
      "id": "dwU4cwpVFvrL",
      "execution_count": null,
      "outputs": []
    },
    {
      "cell_type": "code",
      "source": [
        "chain = create_extraction_chain_pydantic(pydantic_schema=Properties, llm=llm)"
      ],
      "metadata": {
        "id": "P4o1QAFyGIRr"
      },
      "id": "P4o1QAFyGIRr",
      "execution_count": null,
      "outputs": []
    },
    {
      "cell_type": "code",
      "source": [
        "pprint(print(chain.prompt.messages[0].prompt.template))"
      ],
      "metadata": {
        "colab": {
          "base_uri": "https://localhost:8080/"
        },
        "id": "oVjfnCvoGXKT",
        "outputId": "203f0b9d-08ee-479c-f6ef-b8c21ab6f55d"
      },
      "id": "oVjfnCvoGXKT",
      "execution_count": null,
      "outputs": [
        {
          "output_type": "stream",
          "name": "stdout",
          "text": [
            "Extract and save the relevant entities mentioned in the following passage together with their properties.\n",
            "\n",
            "Only extract the properties mentioned in the 'information_extraction' function.\n",
            "\n",
            "If a property is not present and is not required in the function parameters, do not include it in the output.\n",
            "\n",
            "Passage:\n",
            "{input}\n",
            "\n",
            "None\n"
          ]
        }
      ]
    },
    {
      "cell_type": "code",
      "source": [
        "chain.llm_kwargs"
      ],
      "metadata": {
        "colab": {
          "base_uri": "https://localhost:8080/"
        },
        "id": "jPD7pqs3Gseg",
        "outputId": "48d68e92-2b60-4b86-d518-bd81c1c78e09"
      },
      "id": "jPD7pqs3Gseg",
      "execution_count": null,
      "outputs": [
        {
          "output_type": "execute_result",
          "data": {
            "text/plain": [
              "{'functions': [{'name': 'information_extraction',\n",
              "   'description': 'Extracts the relevant information from the passage.',\n",
              "   'parameters': {'type': 'object',\n",
              "    'properties': {'info': {'type': 'array',\n",
              "      'items': {'type': 'object',\n",
              "       'properties': {'model_name': {'title': 'Model Name',\n",
              "         'description': 'The name of the EV model',\n",
              "         'type': 'string'},\n",
              "        'price': {'title': 'Price',\n",
              "         'description': 'Price of the model in lakhs (Indian Rupees)',\n",
              "         'type': 'string'},\n",
              "        'range_kms': {'title': 'Range Kms',\n",
              "         'description': 'Kilometers it would travel aftera single full charge',\n",
              "         'type': 'integer'},\n",
              "        'battery_capacity': {'title': 'Battery Capacity',\n",
              "         'description': 'Battery Capacity of the model',\n",
              "         'type': 'integer'}},\n",
              "       'required': ['model_name', 'price', 'range_kms']}}},\n",
              "    'required': ['info']}}],\n",
              " 'function_call': {'name': 'information_extraction'}}"
            ]
          },
          "metadata": {},
          "execution_count": 33
        }
      ]
    },
    {
      "cell_type": "code",
      "source": [
        "response = chain.run(final_text)\n",
        "response"
      ],
      "metadata": {
        "colab": {
          "base_uri": "https://localhost:8080/",
          "height": 321
        },
        "id": "ufmTbvNDGdd8",
        "outputId": "6f6a7c50-19cc-4b68-9b6c-ce96257daf94"
      },
      "id": "ufmTbvNDGdd8",
      "execution_count": null,
      "outputs": [
        {
          "output_type": "error",
          "ename": "ValidationError",
          "evalue": "ignored",
          "traceback": [
            "\u001b[0;31m---------------------------------------------------------------------------\u001b[0m",
            "\u001b[0;31mValidationError\u001b[0m                           Traceback (most recent call last)",
            "\u001b[0;32m<ipython-input-34-44b40cf6b059>\u001b[0m in \u001b[0;36m<cell line: 1>\u001b[0;34m()\u001b[0m\n\u001b[0;32m----> 1\u001b[0;31m \u001b[0mresponse\u001b[0m \u001b[0;34m=\u001b[0m \u001b[0mchain\u001b[0m\u001b[0;34m.\u001b[0m\u001b[0mrun\u001b[0m\u001b[0;34m(\u001b[0m\u001b[0mfinal_text\u001b[0m\u001b[0;34m)\u001b[0m\u001b[0;34m\u001b[0m\u001b[0;34m\u001b[0m\u001b[0m\n\u001b[0m\u001b[1;32m      2\u001b[0m \u001b[0mresponse\u001b[0m\u001b[0;34m\u001b[0m\u001b[0;34m\u001b[0m\u001b[0m\n",
            "\u001b[0;32m/usr/local/lib/python3.10/dist-packages/langchain/chains/base.py\u001b[0m in \u001b[0;36mrun\u001b[0;34m(self, callbacks, tags, metadata, *args, **kwargs)\u001b[0m\n\u001b[1;32m    503\u001b[0m             \u001b[0;32mif\u001b[0m \u001b[0mlen\u001b[0m\u001b[0;34m(\u001b[0m\u001b[0margs\u001b[0m\u001b[0;34m)\u001b[0m \u001b[0;34m!=\u001b[0m \u001b[0;36m1\u001b[0m\u001b[0;34m:\u001b[0m\u001b[0;34m\u001b[0m\u001b[0;34m\u001b[0m\u001b[0m\n\u001b[1;32m    504\u001b[0m                 \u001b[0;32mraise\u001b[0m \u001b[0mValueError\u001b[0m\u001b[0;34m(\u001b[0m\u001b[0;34m\"`run` supports only one positional argument.\"\u001b[0m\u001b[0;34m)\u001b[0m\u001b[0;34m\u001b[0m\u001b[0;34m\u001b[0m\u001b[0m\n\u001b[0;32m--> 505\u001b[0;31m             return self(args[0], callbacks=callbacks, tags=tags, metadata=metadata)[\n\u001b[0m\u001b[1;32m    506\u001b[0m                 \u001b[0m_output_key\u001b[0m\u001b[0;34m\u001b[0m\u001b[0;34m\u001b[0m\u001b[0m\n\u001b[1;32m    507\u001b[0m             ]\n",
            "\u001b[0;32m/usr/local/lib/python3.10/dist-packages/langchain/chains/base.py\u001b[0m in \u001b[0;36m__call__\u001b[0;34m(self, inputs, return_only_outputs, callbacks, tags, metadata, run_name, include_run_info)\u001b[0m\n\u001b[1;32m    308\u001b[0m         \u001b[0;32mexcept\u001b[0m \u001b[0mBaseException\u001b[0m \u001b[0;32mas\u001b[0m \u001b[0me\u001b[0m\u001b[0;34m:\u001b[0m\u001b[0;34m\u001b[0m\u001b[0;34m\u001b[0m\u001b[0m\n\u001b[1;32m    309\u001b[0m             \u001b[0mrun_manager\u001b[0m\u001b[0;34m.\u001b[0m\u001b[0mon_chain_error\u001b[0m\u001b[0;34m(\u001b[0m\u001b[0me\u001b[0m\u001b[0;34m)\u001b[0m\u001b[0;34m\u001b[0m\u001b[0;34m\u001b[0m\u001b[0m\n\u001b[0;32m--> 310\u001b[0;31m             \u001b[0;32mraise\u001b[0m \u001b[0me\u001b[0m\u001b[0;34m\u001b[0m\u001b[0;34m\u001b[0m\u001b[0m\n\u001b[0m\u001b[1;32m    311\u001b[0m         \u001b[0mrun_manager\u001b[0m\u001b[0;34m.\u001b[0m\u001b[0mon_chain_end\u001b[0m\u001b[0;34m(\u001b[0m\u001b[0moutputs\u001b[0m\u001b[0;34m)\u001b[0m\u001b[0;34m\u001b[0m\u001b[0;34m\u001b[0m\u001b[0m\n\u001b[1;32m    312\u001b[0m         final_outputs: Dict[str, Any] = self.prep_outputs(\n",
            "\u001b[0;32m/usr/local/lib/python3.10/dist-packages/langchain/chains/base.py\u001b[0m in \u001b[0;36m__call__\u001b[0;34m(self, inputs, return_only_outputs, callbacks, tags, metadata, run_name, include_run_info)\u001b[0m\n\u001b[1;32m    302\u001b[0m         \u001b[0;32mtry\u001b[0m\u001b[0;34m:\u001b[0m\u001b[0;34m\u001b[0m\u001b[0;34m\u001b[0m\u001b[0m\n\u001b[1;32m    303\u001b[0m             outputs = (\n\u001b[0;32m--> 304\u001b[0;31m                 \u001b[0mself\u001b[0m\u001b[0;34m.\u001b[0m\u001b[0m_call\u001b[0m\u001b[0;34m(\u001b[0m\u001b[0minputs\u001b[0m\u001b[0;34m,\u001b[0m \u001b[0mrun_manager\u001b[0m\u001b[0;34m=\u001b[0m\u001b[0mrun_manager\u001b[0m\u001b[0;34m)\u001b[0m\u001b[0;34m\u001b[0m\u001b[0;34m\u001b[0m\u001b[0m\n\u001b[0m\u001b[1;32m    305\u001b[0m                 \u001b[0;32mif\u001b[0m \u001b[0mnew_arg_supported\u001b[0m\u001b[0;34m\u001b[0m\u001b[0;34m\u001b[0m\u001b[0m\n\u001b[1;32m    306\u001b[0m                 \u001b[0;32melse\u001b[0m \u001b[0mself\u001b[0m\u001b[0;34m.\u001b[0m\u001b[0m_call\u001b[0m\u001b[0;34m(\u001b[0m\u001b[0minputs\u001b[0m\u001b[0;34m)\u001b[0m\u001b[0;34m\u001b[0m\u001b[0;34m\u001b[0m\u001b[0m\n",
            "\u001b[0;32m/usr/local/lib/python3.10/dist-packages/langchain/chains/llm.py\u001b[0m in \u001b[0;36m_call\u001b[0;34m(self, inputs, run_manager)\u001b[0m\n\u001b[1;32m    107\u001b[0m     ) -> Dict[str, str]:\n\u001b[1;32m    108\u001b[0m         \u001b[0mresponse\u001b[0m \u001b[0;34m=\u001b[0m \u001b[0mself\u001b[0m\u001b[0;34m.\u001b[0m\u001b[0mgenerate\u001b[0m\u001b[0;34m(\u001b[0m\u001b[0;34m[\u001b[0m\u001b[0minputs\u001b[0m\u001b[0;34m]\u001b[0m\u001b[0;34m,\u001b[0m \u001b[0mrun_manager\u001b[0m\u001b[0;34m=\u001b[0m\u001b[0mrun_manager\u001b[0m\u001b[0;34m)\u001b[0m\u001b[0;34m\u001b[0m\u001b[0;34m\u001b[0m\u001b[0m\n\u001b[0;32m--> 109\u001b[0;31m         \u001b[0;32mreturn\u001b[0m \u001b[0mself\u001b[0m\u001b[0;34m.\u001b[0m\u001b[0mcreate_outputs\u001b[0m\u001b[0;34m(\u001b[0m\u001b[0mresponse\u001b[0m\u001b[0;34m)\u001b[0m\u001b[0;34m[\u001b[0m\u001b[0;36m0\u001b[0m\u001b[0;34m]\u001b[0m\u001b[0;34m\u001b[0m\u001b[0;34m\u001b[0m\u001b[0m\n\u001b[0m\u001b[1;32m    110\u001b[0m \u001b[0;34m\u001b[0m\u001b[0m\n\u001b[1;32m    111\u001b[0m     def generate(\n",
            "\u001b[0;32m/usr/local/lib/python3.10/dist-packages/langchain/chains/llm.py\u001b[0m in \u001b[0;36mcreate_outputs\u001b[0;34m(self, llm_result)\u001b[0m\n\u001b[1;32m    261\u001b[0m     \u001b[0;32mdef\u001b[0m \u001b[0mcreate_outputs\u001b[0m\u001b[0;34m(\u001b[0m\u001b[0mself\u001b[0m\u001b[0;34m,\u001b[0m \u001b[0mllm_result\u001b[0m\u001b[0;34m:\u001b[0m \u001b[0mLLMResult\u001b[0m\u001b[0;34m)\u001b[0m \u001b[0;34m->\u001b[0m \u001b[0mList\u001b[0m\u001b[0;34m[\u001b[0m\u001b[0mDict\u001b[0m\u001b[0;34m[\u001b[0m\u001b[0mstr\u001b[0m\u001b[0;34m,\u001b[0m \u001b[0mAny\u001b[0m\u001b[0;34m]\u001b[0m\u001b[0;34m]\u001b[0m\u001b[0;34m:\u001b[0m\u001b[0;34m\u001b[0m\u001b[0;34m\u001b[0m\u001b[0m\n\u001b[1;32m    262\u001b[0m         \u001b[0;34m\"\"\"Create outputs from response.\"\"\"\u001b[0m\u001b[0;34m\u001b[0m\u001b[0;34m\u001b[0m\u001b[0m\n\u001b[0;32m--> 263\u001b[0;31m         result = [\n\u001b[0m\u001b[1;32m    264\u001b[0m             \u001b[0;31m# Get the text of the top generated string.\u001b[0m\u001b[0;34m\u001b[0m\u001b[0;34m\u001b[0m\u001b[0m\n\u001b[1;32m    265\u001b[0m             {\n",
            "\u001b[0;32m/usr/local/lib/python3.10/dist-packages/langchain/chains/llm.py\u001b[0m in \u001b[0;36m<listcomp>\u001b[0;34m(.0)\u001b[0m\n\u001b[1;32m    264\u001b[0m             \u001b[0;31m# Get the text of the top generated string.\u001b[0m\u001b[0;34m\u001b[0m\u001b[0;34m\u001b[0m\u001b[0m\n\u001b[1;32m    265\u001b[0m             {\n\u001b[0;32m--> 266\u001b[0;31m                 \u001b[0mself\u001b[0m\u001b[0;34m.\u001b[0m\u001b[0moutput_key\u001b[0m\u001b[0;34m:\u001b[0m \u001b[0mself\u001b[0m\u001b[0;34m.\u001b[0m\u001b[0moutput_parser\u001b[0m\u001b[0;34m.\u001b[0m\u001b[0mparse_result\u001b[0m\u001b[0;34m(\u001b[0m\u001b[0mgeneration\u001b[0m\u001b[0;34m)\u001b[0m\u001b[0;34m,\u001b[0m\u001b[0;34m\u001b[0m\u001b[0;34m\u001b[0m\u001b[0m\n\u001b[0m\u001b[1;32m    267\u001b[0m                 \u001b[0;34m\"full_generation\"\u001b[0m\u001b[0;34m:\u001b[0m \u001b[0mgeneration\u001b[0m\u001b[0;34m,\u001b[0m\u001b[0;34m\u001b[0m\u001b[0;34m\u001b[0m\u001b[0m\n\u001b[1;32m    268\u001b[0m             }\n",
            "\u001b[0;32m/usr/local/lib/python3.10/dist-packages/langchain/output_parsers/openai_functions.py\u001b[0m in \u001b[0;36mparse_result\u001b[0;34m(self, result, partial)\u001b[0m\n\u001b[1;32m    175\u001b[0m \u001b[0;34m\u001b[0m\u001b[0m\n\u001b[1;32m    176\u001b[0m     \u001b[0;32mdef\u001b[0m \u001b[0mparse_result\u001b[0m\u001b[0;34m(\u001b[0m\u001b[0mself\u001b[0m\u001b[0;34m,\u001b[0m \u001b[0mresult\u001b[0m\u001b[0;34m:\u001b[0m \u001b[0mList\u001b[0m\u001b[0;34m[\u001b[0m\u001b[0mGeneration\u001b[0m\u001b[0;34m]\u001b[0m\u001b[0;34m,\u001b[0m \u001b[0;34m*\u001b[0m\u001b[0;34m,\u001b[0m \u001b[0mpartial\u001b[0m\u001b[0;34m:\u001b[0m \u001b[0mbool\u001b[0m \u001b[0;34m=\u001b[0m \u001b[0;32mFalse\u001b[0m\u001b[0;34m)\u001b[0m \u001b[0;34m->\u001b[0m \u001b[0mAny\u001b[0m\u001b[0;34m:\u001b[0m\u001b[0;34m\u001b[0m\u001b[0;34m\u001b[0m\u001b[0m\n\u001b[0;32m--> 177\u001b[0;31m         \u001b[0mresult\u001b[0m \u001b[0;34m=\u001b[0m \u001b[0msuper\u001b[0m\u001b[0;34m(\u001b[0m\u001b[0;34m)\u001b[0m\u001b[0;34m.\u001b[0m\u001b[0mparse_result\u001b[0m\u001b[0;34m(\u001b[0m\u001b[0mresult\u001b[0m\u001b[0;34m)\u001b[0m\u001b[0;34m\u001b[0m\u001b[0;34m\u001b[0m\u001b[0m\n\u001b[0m\u001b[1;32m    178\u001b[0m         \u001b[0;32mreturn\u001b[0m \u001b[0mgetattr\u001b[0m\u001b[0;34m(\u001b[0m\u001b[0mresult\u001b[0m\u001b[0;34m,\u001b[0m \u001b[0mself\u001b[0m\u001b[0;34m.\u001b[0m\u001b[0mattr_name\u001b[0m\u001b[0;34m)\u001b[0m\u001b[0;34m\u001b[0m\u001b[0;34m\u001b[0m\u001b[0m\n",
            "\u001b[0;32m/usr/local/lib/python3.10/dist-packages/langchain/output_parsers/openai_functions.py\u001b[0m in \u001b[0;36mparse_result\u001b[0;34m(self, result, partial)\u001b[0m\n\u001b[1;32m    160\u001b[0m         \u001b[0m_result\u001b[0m \u001b[0;34m=\u001b[0m \u001b[0msuper\u001b[0m\u001b[0;34m(\u001b[0m\u001b[0;34m)\u001b[0m\u001b[0;34m.\u001b[0m\u001b[0mparse_result\u001b[0m\u001b[0;34m(\u001b[0m\u001b[0mresult\u001b[0m\u001b[0;34m)\u001b[0m\u001b[0;34m\u001b[0m\u001b[0;34m\u001b[0m\u001b[0m\n\u001b[1;32m    161\u001b[0m         \u001b[0;32mif\u001b[0m \u001b[0mself\u001b[0m\u001b[0;34m.\u001b[0m\u001b[0margs_only\u001b[0m\u001b[0;34m:\u001b[0m\u001b[0;34m\u001b[0m\u001b[0;34m\u001b[0m\u001b[0m\n\u001b[0;32m--> 162\u001b[0;31m             \u001b[0mpydantic_args\u001b[0m \u001b[0;34m=\u001b[0m \u001b[0mself\u001b[0m\u001b[0;34m.\u001b[0m\u001b[0mpydantic_schema\u001b[0m\u001b[0;34m.\u001b[0m\u001b[0mparse_raw\u001b[0m\u001b[0;34m(\u001b[0m\u001b[0m_result\u001b[0m\u001b[0;34m)\u001b[0m  \u001b[0;31m# type: ignore\u001b[0m\u001b[0;34m\u001b[0m\u001b[0;34m\u001b[0m\u001b[0m\n\u001b[0m\u001b[1;32m    163\u001b[0m         \u001b[0;32melse\u001b[0m\u001b[0;34m:\u001b[0m\u001b[0;34m\u001b[0m\u001b[0;34m\u001b[0m\u001b[0m\n\u001b[1;32m    164\u001b[0m             \u001b[0mfn_name\u001b[0m \u001b[0;34m=\u001b[0m \u001b[0m_result\u001b[0m\u001b[0;34m[\u001b[0m\u001b[0;34m\"name\"\u001b[0m\u001b[0;34m]\u001b[0m\u001b[0;34m\u001b[0m\u001b[0;34m\u001b[0m\u001b[0m\n",
            "\u001b[0;32m/usr/local/lib/python3.10/dist-packages/pydantic/main.cpython-310-x86_64-linux-gnu.so\u001b[0m in \u001b[0;36mpydantic.main.BaseModel.parse_raw\u001b[0;34m()\u001b[0m\n",
            "\u001b[0;32m/usr/local/lib/python3.10/dist-packages/pydantic/main.cpython-310-x86_64-linux-gnu.so\u001b[0m in \u001b[0;36mpydantic.main.BaseModel.parse_obj\u001b[0;34m()\u001b[0m\n",
            "\u001b[0;32m/usr/local/lib/python3.10/dist-packages/pydantic/main.cpython-310-x86_64-linux-gnu.so\u001b[0m in \u001b[0;36mpydantic.main.BaseModel.__init__\u001b[0;34m()\u001b[0m\n",
            "\u001b[0;31mValidationError\u001b[0m: 2 validation errors for PydanticSchema\ninfo -> 2 -> range_kms\n  field required (type=value_error.missing)\ninfo -> 11 -> range_kms\n  field required (type=value_error.missing)"
          ]
        }
      ]
    },
    {
      "cell_type": "code",
      "source": [
        "pd.DataFrame([(x.model_name, x.price, x.range_kms, x.battery_capacity) for x in response])"
      ],
      "metadata": {
        "id": "4CZfg1ULHZp0"
      },
      "id": "4CZfg1ULHZp0",
      "execution_count": null,
      "outputs": []
    },
    {
      "cell_type": "code",
      "source": [],
      "metadata": {
        "id": "ws6uiljmJgAL"
      },
      "id": "ws6uiljmJgAL",
      "execution_count": null,
      "outputs": []
    }
  ],
  "metadata": {
    "kernelspec": {
      "display_name": "Python 3 (ipykernel)",
      "language": "python",
      "name": "python3"
    },
    "language_info": {
      "codemirror_mode": {
        "name": "ipython",
        "version": 3
      },
      "file_extension": ".py",
      "mimetype": "text/x-python",
      "name": "python",
      "nbconvert_exporter": "python",
      "pygments_lexer": "ipython3",
      "version": "3.10.9"
    },
    "colab": {
      "provenance": []
    }
  },
  "nbformat": 4,
  "nbformat_minor": 5
}