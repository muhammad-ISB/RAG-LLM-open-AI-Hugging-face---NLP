{
  "nbformat": 4,
  "nbformat_minor": 0,
  "metadata": {
    "colab": {
      "provenance": []
    },
    "kernelspec": {
      "name": "python3",
      "display_name": "Python 3"
    },
    "language_info": {
      "name": "python"
    }
  },
  "cells": [
    {
      "cell_type": "markdown",
      "source": [
        "# Langchain: The basics\n",
        "\n"
      ],
      "metadata": {
        "id": "XoJ-RGiUo-uJ"
      }
    },
    {
      "cell_type": "code",
      "execution_count": null,
      "metadata": {
        "colab": {
          "base_uri": "https://localhost:8080/"
        },
        "id": "8RSTxnoIozRN",
        "outputId": "9ac5d8ea-2fb8-4e4b-80a2-efbb45b66a0e"
      },
      "outputs": [
        {
          "output_type": "stream",
          "name": "stdout",
          "text": [
            "\u001b[2K     \u001b[90m━━━━━━━━━━━━━━━━━━━━━━━━━━━━━━━━━━━━━━━━\u001b[0m \u001b[32m76.5/76.5 kB\u001b[0m \u001b[31m2.0 MB/s\u001b[0m eta \u001b[36m0:00:00\u001b[0m\n",
            "\u001b[2K     \u001b[90m━━━━━━━━━━━━━━━━━━━━━━━━━━━━━━━━━━━━━━━━\u001b[0m \u001b[32m1.7/1.7 MB\u001b[0m \u001b[31m13.7 MB/s\u001b[0m eta \u001b[36m0:00:00\u001b[0m\n",
            "\u001b[2K     \u001b[90m━━━━━━━━━━━━━━━━━━━━━━━━━━━━━━━━━━━━━━\u001b[0m \u001b[32m294.8/294.8 kB\u001b[0m \u001b[31m15.4 MB/s\u001b[0m eta \u001b[36m0:00:00\u001b[0m\n",
            "\u001b[2K     \u001b[90m━━━━━━━━━━━━━━━━━━━━━━━━━━━━━━━━━━━━━━━━\u001b[0m \u001b[32m49.4/49.4 kB\u001b[0m \u001b[31m5.5 MB/s\u001b[0m eta \u001b[36m0:00:00\u001b[0m\n",
            "\u001b[?25h"
          ]
        }
      ],
      "source": [
        "!pip -q install openai langchain huggingface_hub"
      ]
    },
    {
      "cell_type": "code",
      "source": [
        "import os\n",
        "from getpass import getpass"
      ],
      "metadata": {
        "id": "BHeaKh917qIX"
      },
      "execution_count": null,
      "outputs": []
    },
    {
      "cell_type": "code",
      "source": [
        "os.environ['OPENAI_API_KEY'] = getpass()\n"
      ],
      "metadata": {
        "id": "9iIacDfgpB2M",
        "outputId": "6a2a3bff-4df1-46d5-ddfa-a2844d1a4718",
        "colab": {
          "base_uri": "https://localhost:8080/"
        }
      },
      "execution_count": null,
      "outputs": [
        {
          "name": "stdout",
          "output_type": "stream",
          "text": [
            "··········\n"
          ]
        }
      ]
    },
    {
      "cell_type": "markdown",
      "source": [
        "## Plain Conditional Generation\n",
        "\n",
        "### First with OpenAI GPT3"
      ],
      "metadata": {
        "id": "-KB9qA8bpxgJ"
      }
    },
    {
      "cell_type": "code",
      "source": [
        "from langchain.llms import OpenAI"
      ],
      "metadata": {
        "id": "-lzO5PfUpwfv"
      },
      "execution_count": null,
      "outputs": []
    },
    {
      "cell_type": "code",
      "source": [
        "llm = OpenAI(model_name='text-davinci-003',\n",
        "             temperature=0.9,\n",
        "             max_tokens = 256)"
      ],
      "metadata": {
        "id": "sTiEn3tKp7mZ"
      },
      "execution_count": null,
      "outputs": []
    },
    {
      "cell_type": "code",
      "source": [
        "text = \"Why did the duck cross the road?\"\n",
        "\n",
        "print(llm(text))"
      ],
      "metadata": {
        "colab": {
          "base_uri": "https://localhost:8080/"
        },
        "id": "WCBfxD4cqXsx",
        "outputId": "e5c7799d-1dda-4d52-a4cb-14fc2d2dbbae"
      },
      "execution_count": null,
      "outputs": [
        {
          "output_type": "stream",
          "name": "stdout",
          "text": [
            "\n",
            "\n",
            "To get to the other side.\n"
          ]
        }
      ]
    },
    {
      "cell_type": "markdown",
      "source": [
        "## Prompt Templates"
      ],
      "metadata": {
        "id": "xidOhWp7rk_5"
      }
    },
    {
      "cell_type": "code",
      "source": [
        "from langchain import PromptTemplate"
      ],
      "metadata": {
        "id": "NYo3Vs9_81eH"
      },
      "execution_count": null,
      "outputs": []
    },
    {
      "cell_type": "code",
      "source": [
        "restaurant_template = \"\"\"\n",
        "What is the sentiment of the customer review given below? It should be a positive or negative sentiment.\n",
        "\n",
        "review: {review_text}\n",
        "Sentiment:\n",
        "\"\"\"\n",
        "\n",
        "review_prompt = PromptTemplate(\n",
        "    input_variables=[\"review_text\"],\n",
        "    template=restaurant_template,\n",
        ")"
      ],
      "metadata": {
        "id": "dWFJY6-Qrm0L"
      },
      "execution_count": null,
      "outputs": []
    },
    {
      "cell_type": "code",
      "source": [
        "reviews = [\n",
        "    \"The seafood platter was fresh and flavorful. Loved the chic décor and the ambiance of the place.\",\n",
        "    \"Impressive service! The staff was attentive and made excellent recommendations. Thoroughly enjoyed the evening.\",\n",
        "    \"The restaurant's interior was a visual treat, beautifully paired with their gourmet dishes. A delightful experience!\",\n",
        "    \"The food tasted alright, but the tables were not very clean, which was off-putting.\",\n",
        "    \"Waited 30 minutes even with a reservation, and the main course was served cold. Disappointing visit.\"\n",
        "]"
      ],
      "metadata": {
        "id": "qB3E-mPeYkH-"
      },
      "execution_count": null,
      "outputs": []
    },
    {
      "cell_type": "code",
      "source": [
        "print(review_prompt.format(review_text=reviews[0]))"
      ],
      "metadata": {
        "id": "PM66jyMI_1WX",
        "outputId": "dd28fc4b-42b9-4b1f-dfc5-73d5eccf3b04",
        "colab": {
          "base_uri": "https://localhost:8080/"
        }
      },
      "execution_count": null,
      "outputs": [
        {
          "output_type": "stream",
          "name": "stdout",
          "text": [
            "\n",
            "What is the sentiment of the customer review given below? It should be a positive or negative sentiment.\n",
            "\n",
            "review: The seafood platter was fresh and flavorful. Loved the chic décor and the ambiance of the place.\n",
            "Sentiment: \n",
            "\n"
          ]
        }
      ]
    },
    {
      "cell_type": "code",
      "source": [
        "## querying the model with the prompt template\n",
        "from langchain.chains import LLMChain\n",
        "\n",
        "chain = LLMChain(llm=llm, prompt=review_prompt)"
      ],
      "metadata": {
        "id": "KtuuvvmTayhz"
      },
      "execution_count": null,
      "outputs": []
    },
    {
      "cell_type": "code",
      "source": [
        "chain.run({\"review_text\": reviews[0]})"
      ],
      "metadata": {
        "id": "g3NQmLASAJ0-",
        "outputId": "126a7e50-6fdd-4a1c-de6a-33fa13397584",
        "colab": {
          "base_uri": "https://localhost:8080/",
          "height": 36
        }
      },
      "execution_count": null,
      "outputs": [
        {
          "output_type": "execute_result",
          "data": {
            "text/plain": [
              "'Positive'"
            ],
            "application/vnd.google.colaboratory.intrinsic+json": {
              "type": "string"
            }
          },
          "metadata": {},
          "execution_count": 158
        }
      ]
    },
    {
      "cell_type": "code",
      "source": [
        "for review in reviews:\n",
        "    print(prompt.format(review_text=review))\n",
        "    print(chain.run({\"review_text\": review}))\n",
        "    print(\"================================\")"
      ],
      "metadata": {
        "id": "TEOvuOP0AgJ_",
        "outputId": "457eac89-d9a7-476c-9909-af8c69726233",
        "colab": {
          "base_uri": "https://localhost:8080/"
        }
      },
      "execution_count": null,
      "outputs": [
        {
          "output_type": "stream",
          "name": "stdout",
          "text": [
            "\n",
            "What is the sentiment of the customer review given below?\n",
            "\n",
            "review: The seafood platter was fresh and flavorful. Loved the chic décor and the ambiance of the place.\n",
            "Sentiment: \n",
            "\n",
            "Positive\n",
            "================================\n",
            "\n",
            "What is the sentiment of the customer review given below?\n",
            "\n",
            "review: Impressive service! The staff was attentive and made excellent recommendations. Thoroughly enjoyed the evening.\n",
            "Sentiment: \n",
            "\n",
            "Positive\n",
            "================================\n",
            "\n",
            "What is the sentiment of the customer review given below?\n",
            "\n",
            "review: The restaurant's interior was a visual treat, beautifully paired with their gourmet dishes. A delightful experience!\n",
            "Sentiment: \n",
            "\n",
            "Positive\n",
            "================================\n",
            "\n",
            "What is the sentiment of the customer review given below?\n",
            "\n",
            "review: The food tasted alright, but the tables were not very clean, which was off-putting.\n",
            "Sentiment: \n",
            "\n",
            "Negative\n",
            "================================\n",
            "\n",
            "What is the sentiment of the customer review given below?\n",
            "\n",
            "review: Waited 30 minutes even with a reservation, and the main course was served cold. Disappointing visit.\n",
            "Sentiment: \n",
            "\n",
            "Negative\n",
            "================================\n"
          ]
        }
      ]
    },
    {
      "cell_type": "markdown",
      "source": [
        "## with Few Shot Learning"
      ],
      "metadata": {
        "id": "3aiOsgwJX_Ol"
      }
    },
    {
      "cell_type": "code",
      "source": [
        "from langchain import FewShotPromptTemplate"
      ],
      "metadata": {
        "id": "a2AncvoJxON6"
      },
      "execution_count": null,
      "outputs": []
    },
    {
      "cell_type": "code",
      "source": [
        "# First, create the list of few shot examples.\n",
        "examples = [\n",
        "    {\n",
        "        \"Review\": \"The grilled chicken was seasoned to perfection and simply melted in the mouth.\",\n",
        "        \"Category\": \"Food Quality\"\n",
        "    },\n",
        "    {\n",
        "        \"Review\": \"Despite the crowd, the place was immaculately clean and the restrooms were spotless.\",\n",
        "        \"Category\": \"Overall Hygiene\"\n",
        "    },\n",
        "    {\n",
        "        \"Review\": \"The dim lighting and soothing jazz music provided an intimate and romantic setting.\",\n",
        "        \"Category\": \"Restaurant Ambience\"\n",
        "    },\n",
        "    {\n",
        "        \"Review\": \"We were kept waiting for our table even after a confirmed reservation and the staff seemed disinterested.\",\n",
        "        \"Category\": \"Customer Service\"\n",
        "    }\n",
        "]"
      ],
      "metadata": {
        "id": "2WOFpG-RxOVb"
      },
      "execution_count": null,
      "outputs": []
    },
    {
      "cell_type": "code",
      "source": [
        "# Prepare the prompt template\n",
        "example_formatter_template = \"\"\"\n",
        "review: {Review}\n",
        "category: {Category}\\n\n",
        "\"\"\"\n",
        "category_prompt = PromptTemplate(\n",
        "    input_variables=[\"Review\", \"Category\"],\n",
        "    template=example_formatter_template,\n",
        ")"
      ],
      "metadata": {
        "id": "qkDsAyF3xS7b"
      },
      "execution_count": null,
      "outputs": []
    },
    {
      "cell_type": "code",
      "source": [
        "print(category_prompt.format(**examples[0]))"
      ],
      "metadata": {
        "id": "suEZpJB9or7r",
        "outputId": "332f3b8a-af22-43d3-dfbd-5e1d3787fca1",
        "colab": {
          "base_uri": "https://localhost:8080/"
        }
      },
      "execution_count": null,
      "outputs": [
        {
          "output_type": "stream",
          "name": "stdout",
          "text": [
            "\n",
            "review: The grilled chicken was seasoned to perfection and simply melted in the mouth.\n",
            "category: Food Quality\n",
            "\n",
            "\n"
          ]
        }
      ]
    },
    {
      "cell_type": "code",
      "source": [
        "# Finally, we create the `FewShotPromptTemplate` object.\n",
        "few_shot_category_prompt = FewShotPromptTemplate(\n",
        "    # These are the examples we want to insert into the prompt.\n",
        "    examples=examples,\n",
        "    # This is how we want to format the examples when we insert them into the prompt.\n",
        "    example_prompt=category_prompt,\n",
        "    # The prefix is some text that goes before the examples in the prompt.\n",
        "    # Usually, this consists of intructions.\n",
        "    prefix=\"Give the category of review: \",\n",
        "    # The suffix is some text that goes after the examples in the prompt.\n",
        "    # Usually, this is where the user input will go\n",
        "    suffix=\"Review: {review_text}\\nCategory:\",\n",
        "    # The input variables are the variables that the overall prompt expects.\n",
        "    input_variables=[\"review_text\"],\n",
        "    # The example_separator is the string we will use to join the prefix, examples, and suffix together with.\n",
        "    example_separator=\"\\n\",\n",
        ")"
      ],
      "metadata": {
        "id": "ihj7fUsDxTGb"
      },
      "execution_count": null,
      "outputs": []
    },
    {
      "cell_type": "code",
      "source": [
        "# We can now generate a prompt using the `format` method.\n",
        "print(few_shot_category_prompt.format(review_text=reviews[0]))"
      ],
      "metadata": {
        "id": "eJuHdj9wxNFq",
        "colab": {
          "base_uri": "https://localhost:8080/"
        },
        "outputId": "3c4ecb38-9124-4271-ca3e-1072756d3691"
      },
      "execution_count": null,
      "outputs": [
        {
          "output_type": "stream",
          "name": "stdout",
          "text": [
            "Give the category of review: \n",
            "\n",
            "review: The grilled chicken was seasoned to perfection and simply melted in the mouth.\n",
            "category: Food Quality\n",
            "\n",
            "\n",
            "\n",
            "review: Despite the crowd, the place was immaculately clean and the restrooms were spotless.\n",
            "category: Overall Hygiene\n",
            "\n",
            "\n",
            "\n",
            "review: The dim lighting and soothing jazz music provided an intimate and romantic setting.\n",
            "category: Restaurant Ambience\n",
            "\n",
            "\n",
            "\n",
            "review: We were kept waiting for our table even after a confirmed reservation and the staff seemed disinterested.\n",
            "category: Customer Service\n",
            "\n",
            "\n",
            "Review: The seafood platter was fresh and flavorful. Loved the chic décor and the ambiance of the place.\n",
            "Category:\n"
          ]
        }
      ]
    },
    {
      "cell_type": "code",
      "source": [
        "from langchain.chains import LLMChain\n",
        "\n",
        "category_chain = LLMChain(llm=llm, prompt=few_shot_category_prompt)\n",
        "\n",
        "print(reviews[0])\n",
        "# Run the chain only specifying the input variable.\n",
        "print(category_chain.run(reviews[0]))"
      ],
      "metadata": {
        "colab": {
          "base_uri": "https://localhost:8080/"
        },
        "id": "pDC56SM8FEzu",
        "outputId": "934fb9ee-682f-4017-dd95-68ca732672d6"
      },
      "execution_count": null,
      "outputs": [
        {
          "output_type": "stream",
          "name": "stdout",
          "text": [
            "The seafood platter was fresh and flavorful. Loved the chic décor and the ambiance of the place.\n",
            " Food Quality & Restaurant Ambience\n"
          ]
        }
      ]
    },
    {
      "cell_type": "code",
      "source": [
        "for review in reviews:\n",
        "    print(review)\n",
        "    print(category_chain.run({\"review_text\": review}))\n",
        "    print(\"================================\")"
      ],
      "metadata": {
        "id": "b46zmyJZYNYC",
        "outputId": "60e56c7f-70cb-43e7-8ad1-73a2bf36c2ea",
        "colab": {
          "base_uri": "https://localhost:8080/"
        }
      },
      "execution_count": null,
      "outputs": [
        {
          "output_type": "stream",
          "name": "stdout",
          "text": [
            "The seafood platter was fresh and flavorful. Loved the chic décor and the ambiance of the place.\n",
            " Food Quality and Restaurant Ambience\n",
            "================================\n",
            "Impressive service! The staff was attentive and made excellent recommendations. Thoroughly enjoyed the evening.\n",
            " Customer Service\n",
            "================================\n",
            "The restaurant's interior was a visual treat, beautifully paired with their gourmet dishes. A delightful experience!\n",
            " Restaurant Decor\n",
            "================================\n",
            "The food tasted alright, but the tables were not very clean, which was off-putting.\n",
            " Cleanliness\n",
            "================================\n",
            "Waited 30 minutes even with a reservation, and the main course was served cold. Disappointing visit.\n",
            " Overall Experience\n",
            "================================\n"
          ]
        }
      ]
    },
    {
      "cell_type": "code",
      "source": [
        "from langchain.schema import StrOutputParser"
      ],
      "metadata": {
        "id": "ccnJM0x5kWwS"
      },
      "execution_count": null,
      "outputs": []
    },
    {
      "cell_type": "code",
      "source": [
        "review_chain = review_prompt | llm | StrOutputParser()"
      ],
      "metadata": {
        "id": "eCk7Yx98vK9J"
      },
      "execution_count": null,
      "outputs": []
    },
    {
      "cell_type": "code",
      "source": [
        "review_chain.invoke({\"review_text\": reviews[0]})"
      ],
      "metadata": {
        "id": "oDQykAkVvhsx",
        "outputId": "886ec5e8-60d9-4f58-9b22-06891095f13c",
        "colab": {
          "base_uri": "https://localhost:8080/",
          "height": 36
        }
      },
      "execution_count": null,
      "outputs": [
        {
          "output_type": "execute_result",
          "data": {
            "text/plain": [
              "'Positive'"
            ],
            "application/vnd.google.colaboratory.intrinsic+json": {
              "type": "string"
            }
          },
          "metadata": {},
          "execution_count": 184
        }
      ]
    },
    {
      "cell_type": "code",
      "source": [
        "category_chain = few_shot_category_prompt | llm | StrOutputParser()"
      ],
      "metadata": {
        "id": "A2TWICL7zFWt"
      },
      "execution_count": null,
      "outputs": []
    },
    {
      "cell_type": "code",
      "source": [
        "category_chain.invoke({\"review_text\": reviews[1]})"
      ],
      "metadata": {
        "id": "7c648A0F0QvD",
        "outputId": "86fb5f74-5075-4184-d216-b79a3abc521a",
        "colab": {
          "base_uri": "https://localhost:8080/",
          "height": 36
        }
      },
      "execution_count": null,
      "outputs": [
        {
          "output_type": "execute_result",
          "data": {
            "text/plain": [
              "' Customer Service'"
            ],
            "application/vnd.google.colaboratory.intrinsic+json": {
              "type": "string"
            }
          },
          "metadata": {},
          "execution_count": 194
        }
      ]
    },
    {
      "cell_type": "code",
      "source": [
        "response_to_customer = \"\"\"\n",
        "\"You received a {feedback} feedback from a customer about {category}.\n",
        "Write an appropriate response to the customer.\"\"\""
      ],
      "metadata": {
        "id": "4g5Dd0U3xHS_"
      },
      "execution_count": null,
      "outputs": []
    },
    {
      "cell_type": "code",
      "source": [
        "response_prompt = PromptTemplate(\n",
        "    input_variables=[\"feedback\", \"category\"],\n",
        "    template=response_to_customer,\n",
        ")"
      ],
      "metadata": {
        "id": "Vkracy1OvsU7"
      },
      "execution_count": null,
      "outputs": []
    },
    {
      "cell_type": "code",
      "source": [
        "final_response_chain = response_prompt | llm | StrOutputParser()"
      ],
      "metadata": {
        "id": "P-VEWxPUzVOR"
      },
      "execution_count": null,
      "outputs": []
    },
    {
      "cell_type": "code",
      "source": [
        "complete_chain = (\n",
        "    {\n",
        "        \"feedback\": review_chain,\n",
        "        \"category\": category_chain,\n",
        "    }\n",
        "    | final_response_chain\n",
        ")"
      ],
      "metadata": {
        "id": "JShSwOmhxZ6K"
      },
      "execution_count": null,
      "outputs": []
    },
    {
      "cell_type": "code",
      "source": [
        "from pprint import pprint"
      ],
      "metadata": {
        "id": "3mLGrv_b0r0s"
      },
      "execution_count": null,
      "outputs": []
    },
    {
      "cell_type": "code",
      "source": [
        "pprint(complete_chain.invoke({\"review_text\": reviews[4]}))"
      ],
      "metadata": {
        "id": "dh24RaUwyMRE",
        "outputId": "dcc8932e-6968-42db-bf78-94d9ae2ffbd9",
        "colab": {
          "base_uri": "https://localhost:8080/"
        }
      },
      "execution_count": null,
      "outputs": [
        {
          "output_type": "stream",
          "name": "stdout",
          "text": [
            "('\\n'\n",
            " '\\n'\n",
            " 'I apologize that your overall experience was not up to your expectations. We '\n",
            " 'take customer satisfaction very seriously, and I want to assure you that we '\n",
            " 'will investigate what happened and take steps to ensure this type of issue '\n",
            " 'does not occur again. If there is anything we can do to make it up to you, '\n",
            " 'please let us know. Thank you for bringing this issue to our attention.')\n"
          ]
        }
      ]
    },
    {
      "cell_type": "code",
      "source": [],
      "metadata": {
        "id": "W0tFkUFSyTGs"
      },
      "execution_count": null,
      "outputs": []
    }
  ]
}