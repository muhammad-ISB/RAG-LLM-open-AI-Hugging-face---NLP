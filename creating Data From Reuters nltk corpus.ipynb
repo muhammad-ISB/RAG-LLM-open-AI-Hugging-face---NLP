{
  "cells": [
    {
      "cell_type": "markdown",
      "source": [
        "**Author:** Dr. Shahriar Hossain <br>\n",
        "**Topic of the code:** This code creates a data folder full of text files from Reuters corpus <br>\n",
        "**A video using this code:**  <br>\n",
        "https://youtu.be/OaLemi9JIl8 <br>\n",
        "**My YT Channel:** https://www.youtube.com/@C4A <br>\n",
        "**Web:** https://computing4all.com/"
      ],
      "metadata": {
        "id": "Bc9lOBTLzGxL"
      },
      "id": "Bc9lOBTLzGxL"
    },
    {
      "cell_type": "code",
      "execution_count": null,
      "id": "9ca77536",
      "metadata": {
        "id": "9ca77536"
      },
      "outputs": [],
      "source": [
        "import os\n",
        "import nltk\n",
        "from nltk.corpus import reuters"
      ]
    },
    {
      "cell_type": "code",
      "execution_count": null,
      "id": "4e9a0e24",
      "metadata": {
        "id": "4e9a0e24",
        "outputId": "7c853e5c-3a68-47ea-b8ba-5a0fc02de423"
      },
      "outputs": [
        {
          "name": "stderr",
          "output_type": "stream",
          "text": [
            "[nltk_data] Downloading package reuters to\n",
            "[nltk_data]     C:\\Users\\mshos\\AppData\\Roaming\\nltk_data...\n"
          ]
        },
        {
          "data": {
            "text/plain": [
              "True"
            ]
          },
          "execution_count": 2,
          "metadata": {},
          "output_type": "execute_result"
        }
      ],
      "source": [
        "# Ensure that the NLTK Reuters corpus is downloaded\n",
        "nltk.download('reuters')"
      ]
    },
    {
      "cell_type": "code",
      "execution_count": null,
      "id": "c419deeb",
      "metadata": {
        "id": "c419deeb"
      },
      "outputs": [],
      "source": [
        "# Create a directory to store the text files\n",
        "os.makedirs('data', exist_ok=True)"
      ]
    },
    {
      "cell_type": "code",
      "execution_count": null,
      "id": "c4b9573a",
      "metadata": {
        "id": "c4b9573a"
      },
      "outputs": [],
      "source": [
        "# Iterate through the fileids in the Reuters corpus\n",
        "for fileid in reuters.fileids():\n",
        "    # Retrieve the text of the news article\n",
        "    article_text = ' '.join(reuters.words(fileid))\n",
        "\n",
        "    # Construct the filename (you can also use\n",
        "    # the categories in the filename if needed)\n",
        "    filename = f'data/{fileid.replace(\"/\", \"_\")}.txt'\n",
        "\n",
        "    # Write the article text to a file\n",
        "    with open(filename, 'w', encoding='utf-8') as file:\n",
        "        file.write(article_text)"
      ]
    },
    {
      "cell_type": "code",
      "execution_count": null,
      "id": "0960b125",
      "metadata": {
        "id": "0960b125"
      },
      "outputs": [],
      "source": [
        "print(\"If everything went fine, Reuters articles are saved as text files.\")"
      ]
    },
    {
      "cell_type": "code",
      "execution_count": null,
      "id": "dfb098ce",
      "metadata": {
        "id": "dfb098ce"
      },
      "outputs": [],
      "source": []
    }
  ],
  "metadata": {
    "kernelspec": {
      "display_name": "Python 3 (ipykernel)",
      "language": "python",
      "name": "python3"
    },
    "language_info": {
      "codemirror_mode": {
        "name": "ipython",
        "version": 3
      },
      "file_extension": ".py",
      "mimetype": "text/x-python",
      "name": "python",
      "nbconvert_exporter": "python",
      "pygments_lexer": "ipython3",
      "version": "3.11.4"
    },
    "colab": {
      "provenance": []
    }
  },
  "nbformat": 4,
  "nbformat_minor": 5
}