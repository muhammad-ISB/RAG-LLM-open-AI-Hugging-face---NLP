{
  "cells": [
    {
      "cell_type": "markdown",
      "id": "64971178-177d-48ff-9c11-201f3306a6b6",
      "metadata": {
        "tags": [],
        "id": "64971178-177d-48ff-9c11-201f3306a6b6"
      },
      "source": [
        "# Infosys Quarterly Report Analysis\n",
        "In this demo, we explore answering complex queries by decomposing them into simpler sub-queries."
      ]
    },
    {
      "cell_type": "code",
      "execution_count": null,
      "id": "62cda12a",
      "metadata": {
        "id": "62cda12a"
      },
      "outputs": [],
      "source": [
        "#!pip install getpass4 pypdf llama-index openai faiss-cpu"
      ]
    },
    {
      "cell_type": "code",
      "source": [
        "from google.colab import drive\n",
        "drive.mount('/content/drive')"
      ],
      "metadata": {
        "colab": {
          "base_uri": "https://localhost:8080/"
        },
        "id": "jqXELwU42ihm",
        "outputId": "177d84a4-1906-42b3-b9a9-5e1086d73b03"
      },
      "id": "jqXELwU42ihm",
      "execution_count": null,
      "outputs": [
        {
          "output_type": "stream",
          "name": "stdout",
          "text": [
            "Mounted at /content/drive\n"
          ]
        }
      ]
    },
    {
      "cell_type": "code",
      "execution_count": null,
      "id": "3edf4c98-de44-4d0b-ac7a-7273255a21cf",
      "metadata": {
        "tags": [],
        "id": "3edf4c98-de44-4d0b-ac7a-7273255a21cf"
      },
      "outputs": [],
      "source": [
        "import nest_asyncio\n",
        "nest_asyncio.apply()"
      ]
    },
    {
      "cell_type": "code",
      "execution_count": null,
      "id": "9850b36e",
      "metadata": {
        "colab": {
          "base_uri": "https://localhost:8080/"
        },
        "id": "9850b36e",
        "outputId": "3fe28687-9684-4fff-987c-84bd52d69bf4"
      },
      "outputs": [
        {
          "name": "stdout",
          "output_type": "stream",
          "text": [
            "OpenAI Key:··········\n"
          ]
        }
      ],
      "source": [
        "import os\n",
        "from getpass import getpass\n",
        "os.environ['OPENAI_API_KEY'] = getpass(\"OpenAI Key:\")"
      ]
    },
    {
      "cell_type": "code",
      "execution_count": null,
      "id": "ae95482c-516d-41ce-8394-db949ed58716",
      "metadata": {
        "tags": [],
        "id": "ae95482c-516d-41ce-8394-db949ed58716"
      },
      "outputs": [],
      "source": [
        "from llama_index import SimpleDirectoryReader, ServiceContext, VectorStoreIndex, StorageContext\n",
        "from llama_index.response.pprint_utils import pprint_response\n",
        "from llama_index.llms import OpenAI\n",
        "\n",
        "from llama_index.tools import QueryEngineTool, ToolMetadata\n",
        "from llama_index.query_engine import SubQuestionQueryEngine"
      ]
    },
    {
      "cell_type": "code",
      "source": [
        "import faiss\n",
        "from llama_index.vector_stores import FaissVectorStore"
      ],
      "metadata": {
        "id": "4A3vcUsz3KiB"
      },
      "id": "4A3vcUsz3KiB",
      "execution_count": null,
      "outputs": []
    },
    {
      "cell_type": "markdown",
      "id": "f2ffdb6c-b7df-4649-84d5-2b4ce32ad8a9",
      "metadata": {
        "tags": [],
        "id": "f2ffdb6c-b7df-4649-84d5-2b4ce32ad8a9"
      },
      "source": [
        "## Configure LLM service"
      ]
    },
    {
      "cell_type": "code",
      "execution_count": null,
      "id": "96edd29c-15b6-44f9-bae0-8a1f97e07d17",
      "metadata": {
        "tags": [],
        "id": "96edd29c-15b6-44f9-bae0-8a1f97e07d17"
      },
      "outputs": [],
      "source": [
        "llm = OpenAI(temperature=0,\n",
        "             model=\"text-davinci-003\",\n",
        "             max_tokens=500)\n",
        "\n",
        "service_context = ServiceContext.from_defaults(llm=llm)"
      ]
    },
    {
      "cell_type": "markdown",
      "id": "e034ed70-9d74-4ded-9797-13f2cc5c5ac8",
      "metadata": {
        "tags": [],
        "id": "e034ed70-9d74-4ded-9797-13f2cc5c5ac8"
      },
      "source": [
        "## Load data\n",
        "Downloaded from\n",
        "\n",
        "https://www.infosys.com/investors/reports-filings/quarterly-results.html"
      ]
    },
    {
      "cell_type": "code",
      "execution_count": null,
      "id": "133fc28d-65a1-4a1f-8ed0-d6fb3d4e160c",
      "metadata": {
        "tags": [],
        "id": "133fc28d-65a1-4a1f-8ed0-d6fb3d4e160c"
      },
      "outputs": [],
      "source": [
        "q1_2023 = SimpleDirectoryReader(\n",
        "    input_files=[\"/content/drive/MyDrive/NLP codes/d4/ifrs-inr-press-release.pdf\"]\n",
        ").load_data()"
      ]
    },
    {
      "cell_type": "markdown",
      "id": "210ec44c-f559-48cb-9217-1efaca5e5362",
      "metadata": {
        "id": "210ec44c-f559-48cb-9217-1efaca5e5362"
      },
      "source": [
        "# Build indices"
      ]
    },
    {
      "cell_type": "code",
      "source": [
        "# dimensions of text-ada-embedding-002\n",
        "d = 1536\n",
        "faiss_index = faiss.IndexFlatL2(d)"
      ],
      "metadata": {
        "id": "XFgI8gVd32RI"
      },
      "id": "XFgI8gVd32RI",
      "execution_count": null,
      "outputs": []
    },
    {
      "cell_type": "code",
      "execution_count": null,
      "id": "3748ac62-42ab-4f4c-b40b-40313a44b80d",
      "metadata": {
        "tags": [],
        "id": "3748ac62-42ab-4f4c-b40b-40313a44b80d"
      },
      "outputs": [],
      "source": [
        "vector_store = FaissVectorStore(faiss_index=faiss_index)\n",
        "storage_context = StorageContext.from_defaults(vector_store=vector_store)\n",
        "q1_2023_index = VectorStoreIndex.from_documents(q1_2023, storage_context=storage_context)"
      ]
    },
    {
      "cell_type": "markdown",
      "id": "04fd6587-db6d-4782-83ad-ffc2fcd0b3a1",
      "metadata": {
        "tags": [],
        "id": "04fd6587-db6d-4782-83ad-ffc2fcd0b3a1"
      },
      "source": [
        "## Build query engines"
      ]
    },
    {
      "cell_type": "code",
      "execution_count": null,
      "id": "a2e4e609-fa2c-432f-ab93-c1607be350a1",
      "metadata": {
        "tags": [],
        "id": "a2e4e609-fa2c-432f-ab93-c1607be350a1"
      },
      "outputs": [],
      "source": [
        "q1_2023__engine = q1_2023_index.as_query_engine(similarity_top_k=2)"
      ]
    },
    {
      "cell_type": "markdown",
      "id": "0888e0b1-bcc8-4ea0-8162-f4a3eea97475",
      "metadata": {
        "tags": [],
        "id": "0888e0b1-bcc8-4ea0-8162-f4a3eea97475"
      },
      "source": [
        "## Run queries"
      ]
    },
    {
      "cell_type": "code",
      "execution_count": null,
      "id": "d0e45eb4-39f5-459f-8d57-89cf4d80bc00",
      "metadata": {
        "tags": [],
        "id": "d0e45eb4-39f5-459f-8d57-89cf4d80bc00"
      },
      "outputs": [],
      "source": [
        "response = q1_2023__engine.query(\n",
        "    \"What is the revenue growth for the quarter?\"\n",
        ")"
      ]
    },
    {
      "cell_type": "code",
      "execution_count": null,
      "id": "55c67ff8-7a7f-4032-bef8-373f0c272fd2",
      "metadata": {
        "tags": [],
        "colab": {
          "base_uri": "https://localhost:8080/"
        },
        "id": "55c67ff8-7a7f-4032-bef8-373f0c272fd2",
        "outputId": "976179eb-0cc5-481d-abaf-bdf321b2ff4d"
      },
      "outputs": [
        {
          "output_type": "stream",
          "name": "stdout",
          "text": [
            "The revenue growth for the quarter is 21.4% year-on-year and 5.5% sequentially in constant currency terms.\n"
          ]
        }
      ],
      "source": [
        "print(response)"
      ]
    },
    {
      "cell_type": "code",
      "execution_count": null,
      "id": "0ff55b9b-2b1f-4921-bd5d-5ab04b957b30",
      "metadata": {
        "tags": [],
        "id": "0ff55b9b-2b1f-4921-bd5d-5ab04b957b30"
      },
      "outputs": [],
      "source": [
        "response = q1_2023__engine.query(\"Which are some of the key customer wins?\")"
      ]
    },
    {
      "cell_type": "code",
      "execution_count": null,
      "id": "feccbe75-0005-40de-93aa-9ed7c192dd50",
      "metadata": {
        "tags": [],
        "colab": {
          "base_uri": "https://localhost:8080/"
        },
        "id": "feccbe75-0005-40de-93aa-9ed7c192dd50",
        "outputId": "fde500ff-997a-4120-9321-341cc337e550"
      },
      "outputs": [
        {
          "output_type": "stream",
          "name": "stdout",
          "text": [
            "Some of the key customer wins mentioned in the context are:\n",
            "- Infosys and Rolls-Royce extended their strategic collaboration with the launch of a joint 'Aerospace Engineering and Digital Innovation Centre' in Bengaluru, India.\n",
            "- Infosys launched the Infosys Cobalt Financial Services Cloud, an industry cloud platform for enterprises across the financial services industry.\n",
            "- Infosys and Google Cloud have been selected by Backcountry to help them deliver seamless and secure digital experiences for outdoor enthusiasts.\n",
            "- Infosys collaborated with TK Elevator to revamp their digital workplace management, network security, and IT infrastructure, powered by Infosys Cobalt.\n",
            "- EisnerAmper, one of the largest accounting, tax, and business advisory firms in the U.S., selected RISE with SAP.\n"
          ]
        }
      ],
      "source": [
        "print(response)"
      ]
    },
    {
      "cell_type": "code",
      "execution_count": null,
      "id": "a20ac08f-5859-4433-9ed8-5c315a2e050b",
      "metadata": {
        "id": "a20ac08f-5859-4433-9ed8-5c315a2e050b"
      },
      "outputs": [],
      "source": [
        "response = q1_2023__engine.query(\"What are some of the key achievements in the quarter?\")"
      ]
    },
    {
      "cell_type": "code",
      "execution_count": null,
      "id": "cf67b5f4-a470-4deb-b2d8-fe752e86e170",
      "metadata": {
        "tags": [],
        "colab": {
          "base_uri": "https://localhost:8080/"
        },
        "id": "cf67b5f4-a470-4deb-b2d8-fe752e86e170",
        "outputId": "727bb9cc-cd65-4121-b721-6613327b2cca"
      },
      "outputs": [
        {
          "output_type": "stream",
          "name": "stdout",
          "text": [
            "Some of the key achievements in the quarter include being recognized among Kantar's global 100 most valuable brands in 2022, ranking highest in Stakeholders Empowerment Services' (SES) 'ESG Scores - Top 100 Listed Companies in India' report, being recognized as the '2021 Global AI Services Company of the Year' by Frost & Sullivan, and receiving the HFS OneOffice™ Award in the Sustainability and Innovation Ecosystem categories. Additionally, there were several other recognitions and awards received in various categories such as GSI Innovation Partner of the Year, Microsoft Security Modern Endpoint Management Partner of the Year, and being positioned as a leader in Gartner® Magic Quadrant™ for SAP S/4HANA Application Services and Oracle Cloud Applications Services, among others.\n"
          ]
        }
      ],
      "source": [
        "print(response)"
      ]
    },
    {
      "cell_type": "code",
      "source": [
        "response = q1_2023__engine.query(\"What is the total asset at end of june 2022?\")"
      ],
      "metadata": {
        "id": "moVU4Kuz5Zps"
      },
      "id": "moVU4Kuz5Zps",
      "execution_count": null,
      "outputs": []
    },
    {
      "cell_type": "code",
      "source": [
        "print(response)"
      ],
      "metadata": {
        "colab": {
          "base_uri": "https://localhost:8080/"
        },
        "id": "StYToFq75ifY",
        "outputId": "afaf50eb-5464-4f66-8b20-5311eed14754"
      },
      "id": "StYToFq75ifY",
      "execution_count": null,
      "outputs": [
        {
          "output_type": "stream",
          "name": "stdout",
          "text": [
            "The total assets at the end of June 2022 is 119,979 crore.\n"
          ]
        }
      ]
    },
    {
      "cell_type": "code",
      "source": [
        "response = q1_2023__engine.query(\"What is significant changes in the item in balance sheet in june 2023 from march 2022?\")"
      ],
      "metadata": {
        "id": "jXGxR_LBNe8U"
      },
      "id": "jXGxR_LBNe8U",
      "execution_count": null,
      "outputs": []
    },
    {
      "cell_type": "code",
      "source": [
        "print(response)"
      ],
      "metadata": {
        "colab": {
          "base_uri": "https://localhost:8080/"
        },
        "id": "qajLKiBpNl8y",
        "outputId": "6585a095-c1aa-42ea-9220-77a4c6485710"
      },
      "id": "qajLKiBpNl8y",
      "execution_count": null,
      "outputs": [
        {
          "output_type": "stream",
          "name": "stdout",
          "text": [
            "I'm sorry, but I cannot provide an answer to your query as the context information does not mention any data or information related to the balance sheet in June 2023 or any significant changes in items from March 2022.\n"
          ]
        }
      ]
    }
  ],
  "metadata": {
    "kernelspec": {
      "display_name": "Python 3 (ipykernel)",
      "language": "python",
      "name": "python3"
    },
    "language_info": {
      "codemirror_mode": {
        "name": "ipython",
        "version": 3
      },
      "file_extension": ".py",
      "mimetype": "text/x-python",
      "name": "python",
      "nbconvert_exporter": "python",
      "pygments_lexer": "ipython3",
      "version": "3.10.9"
    },
    "colab": {
      "provenance": []
    }
  },
  "nbformat": 4,
  "nbformat_minor": 5
}